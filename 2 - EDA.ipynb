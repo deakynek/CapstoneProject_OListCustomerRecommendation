{
 "cells": [
  {
   "cell_type": "markdown",
   "id": "d3c340f1",
   "metadata": {},
   "source": [
    "## Exploratory Data Analysis"
   ]
  },
  {
   "cell_type": "code",
   "execution_count": 1,
   "id": "85ceb4a9",
   "metadata": {},
   "outputs": [],
   "source": [
    "# import libraries\n",
    "from datetime import datetime, timedelta\n",
    "import pandas as pd\n",
    "%matplotlib inline\n",
    "import matplotlib.pyplot as plt\n",
    "import numpy as np\n",
    "import seaborn as sns\n",
    "from __future__ import division\n",
    "\n",
    "import chart_studio.plotly as py\n",
    "import plotly.offline as pyoff\n",
    "import plotly.graph_objs as go\n"
   ]
  },
  {
   "cell_type": "code",
   "execution_count": 2,
   "id": "4a2c7fe5",
   "metadata": {},
   "outputs": [],
   "source": [
    "# Install a pip package in the current Jupyter kernel\n",
    "#import sys\n",
    "#!{sys.executable} -m pip install chart_studio"
   ]
  },
  {
   "cell_type": "code",
   "execution_count": 3,
   "id": "4aa3c0fd",
   "metadata": {},
   "outputs": [
    {
     "data": {
      "text/plain": [
       "Unnamed: 0                                int64\n",
       "order_id                                 object\n",
       "order_status                             object\n",
       "order_purchase_timestamp         datetime64[ns]\n",
       "order_approved_at                datetime64[ns]\n",
       "order_delivered_carrier_date     datetime64[ns]\n",
       "order_delivered_customer_date    datetime64[ns]\n",
       "order_estimated_delivery_date    datetime64[ns]\n",
       "shipping_limit_date              datetime64[ns]\n",
       "payment_installments                    float64\n",
       "product_category_name_english            object\n",
       "seller_id                                object\n",
       "seller_zip_code_prefix                  float64\n",
       "seller_city                              object\n",
       "seller_state                             object\n",
       "seller_latitude                         float64\n",
       "seller_longitude                        float64\n",
       "customer_id                              object\n",
       "customer_unique_id                       object\n",
       "customer_zip_code_prefix                  int64\n",
       "customer_city                            object\n",
       "customer_state                           object\n",
       "customer_latitude                       float64\n",
       "customer_longitude                      float64\n",
       "review_id                                object\n",
       "review_score                            float64\n",
       "review_creation_date             datetime64[ns]\n",
       "review_answer_timestamp          datetime64[ns]\n",
       "Total_price                             float64\n",
       "number_of_items                           int64\n",
       "Median_payments                         float64\n",
       "Total_payment                           float64\n",
       "Total_Freight                           float64\n",
       "order_weight_g                          float64\n",
       "order_volume_cm3                        float64\n",
       "payment_type                             object\n",
       "Purchase_To_Delivery_Days               float64\n",
       "Approved_To_Delivery_Days               float64\n",
       "Diff_Est_Delivery_vs_Actual             float64\n",
       "dtype: object"
      ]
     },
     "execution_count": 3,
     "metadata": {},
     "output_type": "execute_result"
    }
   ],
   "source": [
    "#Import Data\n",
    "parse_dates = ['order_purchase_timestamp',\n",
    " 'order_approved_at',\n",
    " 'order_delivered_carrier_date',\n",
    " 'order_delivered_customer_date',\n",
    " 'order_estimated_delivery_date',\n",
    " 'shipping_limit_date',\n",
    "'review_creation_date',\n",
    " 'review_answer_timestamp',]\n",
    "\n",
    "OL_Data = pd.read_csv(\"./OL_Data_Order_Grouped.csv\", \n",
    "                      parse_dates=parse_dates,\n",
    "                      date_parser = pd.to_datetime)\n",
    "\n",
    "\n",
    "\n",
    "OL_Data.dtypes\n"
   ]
  },
  {
   "cell_type": "markdown",
   "id": "9950ad17",
   "metadata": {},
   "source": [
    "<div class=\"span5 alert alert-info\">\n",
    "<h2>RFM Scoring</h2>\n",
    "</div>"
   ]
  },
  {
   "cell_type": "markdown",
   "id": "fe707dc3",
   "metadata": {},
   "source": [
    "<h4>Functions</h4>"
   ]
  },
  {
   "cell_type": "code",
   "execution_count": 4,
   "id": "e9bd87cf",
   "metadata": {},
   "outputs": [],
   "source": [
    "from sklearn.cluster import KMeans\n",
    "\n",
    "def PrintKmeansInertiaGraph(dataFrame, column):\n",
    "    PrintKmeansInertiaGraphWithArray(dataFrame, [column])\n",
    "    \n",
    "def PrintKmeansInertiaGraphWithArray(dataFrame, columns, title=None):\n",
    "    sse={}\n",
    "    columnDF = dataFrame[columns]\n",
    "    \n",
    "    for k in range(1, 10):\n",
    "        kmeans = KMeans(n_clusters=k, max_iter=1000).fit(columnDF)\n",
    "        columnDF.assign(clusters=kmeans.labels_)\n",
    "        sse[k] = kmeans.inertia_ \n",
    "    plt.figure()\n",
    "    if(title != None):\n",
    "        plt.title(title)\n",
    "    elif(len(columns)==1):\n",
    "        plt.title(\"KMeans for {0}\".format(str(columns[0])))\n",
    "    else:\n",
    "        plt.title(\"KMeans for {0}\".format(\", \".join([str(x) for x in columns])))\n",
    "    plt.plot(list(sse.keys()), list(sse.values()))\n",
    "    plt.ylabel(\"KMeans Inertia\")\n",
    "    plt.xlabel(\"K, Number of clusters\")\n",
    "    plt.show()\n",
    "    \n",
    "def PerformKMeans(dataFrame, column, numClusters):\n",
    "    kmeans = KMeans(n_clusters=numClusters)\n",
    "    kmeans.fit(dataFrame[[column]])\n",
    "    clusterCol = '{0}Cluster'.format(column)\n",
    "    clusters = kmeans.predict(dataFrame[[column]])\n",
    "    if(clusterCol in dataFrame.columns):\n",
    "        dataFrame.loc[:,clusterCol] = clusters\n",
    "    else:\n",
    "        dataFrame[clusterCol] = clusters\n",
    "    \n",
    "def PerformKMeansWithArray(dataFrame, columns, numClusters, clusterName, sub=None):\n",
    "    kmeans = KMeans(n_clusters=numClusters)\n",
    "    kmeans.fit(dataFrame[columns])\n",
    "    clusterCol = '{0}'.format(clusterName)\n",
    "    clusters = kmeans.predict(dataFrame[columns])\n",
    "    if sub!=None:\n",
    "        clusters = [sub+str(x) for x in clusters]\n",
    "    \n",
    "    if(clusterCol in dataFrame.columns):\n",
    "        dataFrame.loc[:,clusterCol] = clusters\n",
    "    else:\n",
    "        dataFrame[clusterCol] = clusters\n",
    "        \n",
    "    \n",
    "    \n",
    "#function for ordering cluster numbers\n",
    "def clustersInOrder(clusterName, targetName, dataFrame, ascending):\n",
    "    \n",
    "    #Set New Labels on Clusters, 0-max in order of mean targetName Value\n",
    "    df_new = dataFrame.groupby(clusterName)[targetName].mean().reset_index()\n",
    "    df_new = df_new.sort_values(by=targetName,ascending=ascending).reset_index(drop=True)\n",
    "    df_new['index'] = df_new.index\n",
    "    \n",
    "    #Set New Labels of Clusters to \n",
    "    df_final = pd.merge(dataFrame,df_new[[clusterName,'index']], on=clusterName)\n",
    "    df_final = df_final.drop([clusterName],axis=1)\n",
    "    df_final = df_final.rename(columns={\"index\":clusterName})\n",
    "    \n",
    "    return df_final"
   ]
  },
  {
   "cell_type": "markdown",
   "id": "8fa9a63a",
   "metadata": {},
   "source": [
    "<div class=\"span5 alert alert-info\">\n",
    "<h3>Buyers</h3>\n",
    "</div>"
   ]
  },
  {
   "cell_type": "markdown",
   "id": "5c79e8fe",
   "metadata": {},
   "source": [
    "<h4>Recency</h4>"
   ]
  },
  {
   "cell_type": "code",
   "execution_count": 5,
   "id": "93c8ec88",
   "metadata": {
    "scrolled": false
   },
   "outputs": [
    {
     "name": "stdout",
     "output_type": "stream",
     "text": [
      "count    94467.000000\n",
      "mean       241.859888\n",
      "std        152.702590\n",
      "min          0.000000\n",
      "25%        118.000000\n",
      "50%        223.000000\n",
      "75%        350.000000\n",
      "max        728.000000\n",
      "Name: Buyer_Recency, dtype: float64\n"
     ]
    },
    {
     "data": {
      "image/png": "[encoded data removed]",
      "text/plain": [
       "<Figure size 432x288 with 1 Axes>"
      ]
     },
     "metadata": {
      "needs_background": "light"
     },
     "output_type": "display_data"
    }
   ],
   "source": [
    "#Recency Score Calc\n",
    "buyers = pd.DataFrame(OL_Data['customer_unique_id'].unique())\n",
    "buyers.columns=['CustomerUniqueID']\n",
    "\n",
    "buyerMaxPurchase = OL_Data.groupby('customer_unique_id').order_purchase_timestamp.max().reset_index()\n",
    "buyerMaxPurchase.columns = ['CustomerUniqueID', 'MaxPurchaseDate']\n",
    "\n",
    "buyerMaxPurchase['Buyer_Recency'] = (buyerMaxPurchase['MaxPurchaseDate'].max() - buyerMaxPurchase['MaxPurchaseDate']).dt.days\n",
    "\n",
    "buyers = pd.merge(buyers, buyerMaxPurchase[['CustomerUniqueID','Buyer_Recency']])\n",
    "\n",
    "print(buyers['Buyer_Recency'].describe())\n",
    "buyers.Buyer_Recency.sort_values().hist(bins=100)\n",
    "plt.show()\n"
   ]
  },
  {
   "cell_type": "code",
   "execution_count": 6,
   "id": "34cb83d5",
   "metadata": {
    "scrolled": false
   },
   "outputs": [
    {
     "data": {
      "text/html": [
       "<div>\n",
       "<style scoped>\n",
       "    .dataframe tbody tr th:only-of-type {\n",
       "        vertical-align: middle;\n",
       "    }\n",
       "\n",
       "    .dataframe tbody tr th {\n",
       "        vertical-align: top;\n",
       "    }\n",
       "\n",
       "    .dataframe thead th {\n",
       "        text-align: right;\n",
       "    }\n",
       "</style>\n",
       "<table border=\"1\" class=\"dataframe\">\n",
       "  <thead>\n",
       "    <tr style=\"text-align: right;\">\n",
       "      <th></th>\n",
       "      <th>CustomerUniqueID</th>\n",
       "      <th>MaxPurchaseDate</th>\n",
       "      <th>Buyer_Recency</th>\n",
       "    </tr>\n",
       "  </thead>\n",
       "  <tbody>\n",
       "    <tr>\n",
       "      <th>0</th>\n",
       "      <td>0000366f3b9a7992bf8c76cfdf3221e2</td>\n",
       "      <td>2018-05-10 10:56:27</td>\n",
       "      <td>115</td>\n",
       "    </tr>\n",
       "    <tr>\n",
       "      <th>1</th>\n",
       "      <td>0000b849f77a49e4a4ce2b2a4ca5be3f</td>\n",
       "      <td>2018-05-07 11:11:27</td>\n",
       "      <td>118</td>\n",
       "    </tr>\n",
       "    <tr>\n",
       "      <th>2</th>\n",
       "      <td>0000f46a3911fa3c0805444483337064</td>\n",
       "      <td>2017-03-10 21:05:03</td>\n",
       "      <td>541</td>\n",
       "    </tr>\n",
       "    <tr>\n",
       "      <th>3</th>\n",
       "      <td>0000f6ccb0745a6a4b88665a16c9f078</td>\n",
       "      <td>2017-10-12 20:29:41</td>\n",
       "      <td>325</td>\n",
       "    </tr>\n",
       "    <tr>\n",
       "      <th>4</th>\n",
       "      <td>0004aac84e0df4da2b147fca70cf8255</td>\n",
       "      <td>2017-11-14 19:45:42</td>\n",
       "      <td>292</td>\n",
       "    </tr>\n",
       "    <tr>\n",
       "      <th>...</th>\n",
       "      <td>...</td>\n",
       "      <td>...</td>\n",
       "      <td>...</td>\n",
       "    </tr>\n",
       "    <tr>\n",
       "      <th>94462</th>\n",
       "      <td>fffcf5a5ff07b0908bd4e2dbc735a684</td>\n",
       "      <td>2017-06-08 21:00:36</td>\n",
       "      <td>451</td>\n",
       "    </tr>\n",
       "    <tr>\n",
       "      <th>94463</th>\n",
       "      <td>fffea47cd6d3cc0a88bd621562a9d061</td>\n",
       "      <td>2017-12-10 20:07:56</td>\n",
       "      <td>266</td>\n",
       "    </tr>\n",
       "    <tr>\n",
       "      <th>94464</th>\n",
       "      <td>ffff371b4d645b6ecea244b27531430a</td>\n",
       "      <td>2017-02-07 15:49:16</td>\n",
       "      <td>572</td>\n",
       "    </tr>\n",
       "    <tr>\n",
       "      <th>94465</th>\n",
       "      <td>ffff5962728ec6157033ef9805bacc48</td>\n",
       "      <td>2018-05-02 15:17:41</td>\n",
       "      <td>123</td>\n",
       "    </tr>\n",
       "    <tr>\n",
       "      <th>94466</th>\n",
       "      <td>ffffd2657e2aad2907e67c3e9daecbeb</td>\n",
       "      <td>2017-05-02 20:18:45</td>\n",
       "      <td>488</td>\n",
       "    </tr>\n",
       "  </tbody>\n",
       "</table>\n",
       "<p>94467 rows × 3 columns</p>\n",
       "</div>"
      ],
      "text/plain": [
       "                       CustomerUniqueID     MaxPurchaseDate  Buyer_Recency\n",
       "0      0000366f3b9a7992bf8c76cfdf3221e2 2018-05-10 10:56:27            115\n",
       "1      0000b849f77a49e4a4ce2b2a4ca5be3f 2018-05-07 11:11:27            118\n",
       "2      0000f46a3911fa3c0805444483337064 2017-03-10 21:05:03            541\n",
       "3      0000f6ccb0745a6a4b88665a16c9f078 2017-10-12 20:29:41            325\n",
       "4      0004aac84e0df4da2b147fca70cf8255 2017-11-14 19:45:42            292\n",
       "...                                 ...                 ...            ...\n",
       "94462  fffcf5a5ff07b0908bd4e2dbc735a684 2017-06-08 21:00:36            451\n",
       "94463  fffea47cd6d3cc0a88bd621562a9d061 2017-12-10 20:07:56            266\n",
       "94464  ffff371b4d645b6ecea244b27531430a 2017-02-07 15:49:16            572\n",
       "94465  ffff5962728ec6157033ef9805bacc48 2018-05-02 15:17:41            123\n",
       "94466  ffffd2657e2aad2907e67c3e9daecbeb 2017-05-02 20:18:45            488\n",
       "\n",
       "[94467 rows x 3 columns]"
      ]
     },
     "execution_count": 6,
     "metadata": {},
     "output_type": "execute_result"
    }
   ],
   "source": [
    "buyerMaxPurchase"
   ]
  },
  {
   "cell_type": "code",
   "execution_count": 7,
   "id": "d443a53d",
   "metadata": {},
   "outputs": [
    {
     "data": {
      "text/html": [
       "<div>\n",
       "<style scoped>\n",
       "    .dataframe tbody tr th:only-of-type {\n",
       "        vertical-align: middle;\n",
       "    }\n",
       "\n",
       "    .dataframe tbody tr th {\n",
       "        vertical-align: top;\n",
       "    }\n",
       "\n",
       "    .dataframe thead th {\n",
       "        text-align: right;\n",
       "    }\n",
       "</style>\n",
       "<table border=\"1\" class=\"dataframe\">\n",
       "  <thead>\n",
       "    <tr style=\"text-align: right;\">\n",
       "      <th></th>\n",
       "      <th>CustomerUniqueID</th>\n",
       "      <th>Buyer_Recency</th>\n",
       "    </tr>\n",
       "  </thead>\n",
       "  <tbody>\n",
       "    <tr>\n",
       "      <th>0</th>\n",
       "      <td>7c396fd4830fd04220f754e42b4e5bff</td>\n",
       "      <td>335</td>\n",
       "    </tr>\n",
       "    <tr>\n",
       "      <th>1</th>\n",
       "      <td>af07308b275d755c9edb36a90c618231</td>\n",
       "      <td>40</td>\n",
       "    </tr>\n",
       "    <tr>\n",
       "      <th>2</th>\n",
       "      <td>3a653a41f6f9fc3d2a113cf8398680e8</td>\n",
       "      <td>26</td>\n",
       "    </tr>\n",
       "    <tr>\n",
       "      <th>3</th>\n",
       "      <td>7c142cf63193a1473d2e66489a9ae977</td>\n",
       "      <td>288</td>\n",
       "    </tr>\n",
       "    <tr>\n",
       "      <th>4</th>\n",
       "      <td>72632f0f9dd73dfee390c9b22eb56dd6</td>\n",
       "      <td>201</td>\n",
       "    </tr>\n",
       "    <tr>\n",
       "      <th>...</th>\n",
       "      <td>...</td>\n",
       "      <td>...</td>\n",
       "    </tr>\n",
       "    <tr>\n",
       "      <th>94462</th>\n",
       "      <td>6359f309b166b0196dbf7ad2ac62bb5a</td>\n",
       "      <td>542</td>\n",
       "    </tr>\n",
       "    <tr>\n",
       "      <th>94463</th>\n",
       "      <td>da62f9e57a76d978d02ab5362c509660</td>\n",
       "      <td>208</td>\n",
       "    </tr>\n",
       "    <tr>\n",
       "      <th>94464</th>\n",
       "      <td>737520a9aad80b3fbbdad19b66b37b30</td>\n",
       "      <td>371</td>\n",
       "    </tr>\n",
       "    <tr>\n",
       "      <th>94465</th>\n",
       "      <td>5097a5312c8b157bb7be58ae360ef43c</td>\n",
       "      <td>237</td>\n",
       "    </tr>\n",
       "    <tr>\n",
       "      <th>94466</th>\n",
       "      <td>60350aa974b26ff12caad89e55993bd6</td>\n",
       "      <td>178</td>\n",
       "    </tr>\n",
       "  </tbody>\n",
       "</table>\n",
       "<p>94467 rows × 2 columns</p>\n",
       "</div>"
      ],
      "text/plain": [
       "                       CustomerUniqueID  Buyer_Recency\n",
       "0      7c396fd4830fd04220f754e42b4e5bff            335\n",
       "1      af07308b275d755c9edb36a90c618231             40\n",
       "2      3a653a41f6f9fc3d2a113cf8398680e8             26\n",
       "3      7c142cf63193a1473d2e66489a9ae977            288\n",
       "4      72632f0f9dd73dfee390c9b22eb56dd6            201\n",
       "...                                 ...            ...\n",
       "94462  6359f309b166b0196dbf7ad2ac62bb5a            542\n",
       "94463  da62f9e57a76d978d02ab5362c509660            208\n",
       "94464  737520a9aad80b3fbbdad19b66b37b30            371\n",
       "94465  5097a5312c8b157bb7be58ae360ef43c            237\n",
       "94466  60350aa974b26ff12caad89e55993bd6            178\n",
       "\n",
       "[94467 rows x 2 columns]"
      ]
     },
     "execution_count": 7,
     "metadata": {},
     "output_type": "execute_result"
    }
   ],
   "source": [
    "buyers"
   ]
  },
  {
   "cell_type": "code",
   "execution_count": 8,
   "id": "9dcd2e91",
   "metadata": {
    "scrolled": true
   },
   "outputs": [
    {
     "data": {
      "image/png": "[encoded data removed]",
      "text/plain": [
       "<Figure size 432x288 with 1 Axes>"
      ]
     },
     "metadata": {
      "needs_background": "light"
     },
     "output_type": "display_data"
    }
   ],
   "source": [
    "PrintKmeansInertiaGraph(buyers,'Buyer_Recency')"
   ]
  },
  {
   "cell_type": "code",
   "execution_count": 9,
   "id": "71485311",
   "metadata": {},
   "outputs": [],
   "source": [
    "#Generate Recency Clusters, named 'RecencyCluster'\n",
    "PerformKMeans(buyers,'Buyer_Recency', 4)\n",
    "\n",
    "#Reset Cluster Names, Lower Recency = More Recent, Higher RecencyCluster\n",
    "buyers = clustersInOrder('Buyer_RecencyCluster', 'Buyer_Recency', buyers, False)"
   ]
  },
  {
   "cell_type": "markdown",
   "id": "cca42add",
   "metadata": {},
   "source": [
    "<h4>Frequency</h4>"
   ]
  },
  {
   "cell_type": "code",
   "execution_count": 10,
   "id": "44a68057",
   "metadata": {},
   "outputs": [
    {
     "name": "stdout",
     "output_type": "stream",
     "text": [
      "count    94467.000000\n",
      "mean         1.061005\n",
      "std          0.289504\n",
      "min          1.000000\n",
      "25%          1.000000\n",
      "50%          1.000000\n",
      "75%          1.000000\n",
      "max         16.000000\n",
      "Name: Buyer_Frequency, dtype: float64\n"
     ]
    },
    {
     "data": {
      "image/png": "[encoded data removed]",
      "text/plain": [
       "<Figure size 432x288 with 1 Axes>"
      ]
     },
     "metadata": {
      "needs_background": "light"
     },
     "output_type": "display_data"
    }
   ],
   "source": [
    "#Frequency\n",
    "freq = OL_Data.groupby('customer_unique_id').order_id.count().reset_index()\n",
    "freq.columns = ['CustomerUniqueID','Buyer_Frequency']\n",
    "freq.head()\n",
    "\n",
    "buyers = pd.merge(buyers,freq, on='CustomerUniqueID')\n",
    "\n",
    "print(buyers['Buyer_Frequency'].describe())\n",
    "buyers.Buyer_Frequency.sort_values().hist(bins=16)\n",
    "plt.show()"
   ]
  },
  {
   "cell_type": "code",
   "execution_count": 11,
   "id": "e7f1d4f6",
   "metadata": {},
   "outputs": [
    {
     "data": {
      "image/png": "[encoded data removed]",
      "text/plain": [
       "<Figure size 432x288 with 1 Axes>"
      ]
     },
     "metadata": {
      "needs_background": "light"
     },
     "output_type": "display_data"
    }
   ],
   "source": [
    "PrintKmeansInertiaGraph(buyers,'Buyer_Frequency')"
   ]
  },
  {
   "cell_type": "code",
   "execution_count": 12,
   "id": "840c6bb4",
   "metadata": {},
   "outputs": [],
   "source": [
    "#Generate Recency Clusters, named 'FrequencyCluster'\n",
    "PerformKMeans(buyers,'Buyer_Frequency', 4)\n",
    "\n",
    "#Reset Cluster Names, Higher Frequency = More Frequent, Higher Frequency Cluster\n",
    "buyers = clustersInOrder('Buyer_FrequencyCluster', 'Buyer_Frequency', buyers, True)"
   ]
  },
  {
   "cell_type": "markdown",
   "id": "0a3602ac",
   "metadata": {},
   "source": [
    "<h4>Revenue</h4>"
   ]
  },
  {
   "cell_type": "code",
   "execution_count": 13,
   "id": "6db729af",
   "metadata": {},
   "outputs": [
    {
     "name": "stdout",
     "output_type": "stream",
     "text": [
      "count    94467.000000\n",
      "mean       182.890726\n",
      "std        306.673979\n",
      "min          0.000000\n",
      "25%         63.230000\n",
      "50%        108.840000\n",
      "75%        188.340000\n",
      "max      13664.080000\n",
      "Name: Buyer_Revenue, dtype: float64\n"
     ]
    },
    {
     "data": {
      "image/png": "[encoded data removed]",
      "text/plain": [
       "<Figure size 432x288 with 1 Axes>"
      ]
     },
     "metadata": {
      "needs_background": "light"
     },
     "output_type": "display_data"
    }
   ],
   "source": [
    "#Revenue\n",
    "rev = OL_Data.groupby('customer_unique_id').Total_payment.sum().reset_index()\n",
    "rev.columns = ['CustomerUniqueID','Buyer_Revenue']\n",
    "\n",
    "buyers = pd.merge(buyers, rev, on='CustomerUniqueID')\n",
    "\n",
    "print(buyers['Buyer_Revenue'].describe())\n",
    "buyers.Buyer_Revenue.sort_values().hist(bins=16)\n",
    "plt.show()"
   ]
  },
  {
   "cell_type": "code",
   "execution_count": 14,
   "id": "a6e4178e",
   "metadata": {},
   "outputs": [
    {
     "data": {
      "image/png": "[encoded data removed]",
      "text/plain": [
       "<Figure size 432x288 with 1 Axes>"
      ]
     },
     "metadata": {
      "needs_background": "light"
     },
     "output_type": "display_data"
    }
   ],
   "source": [
    "PrintKmeansInertiaGraph(buyers,'Buyer_Revenue')"
   ]
  },
  {
   "cell_type": "code",
   "execution_count": 15,
   "id": "b1afd8bc",
   "metadata": {},
   "outputs": [],
   "source": [
    "#Generate Revenue Clusters, named 'RevenueCluster'\n",
    "PerformKMeans(buyers,'Buyer_Revenue', 5)\n",
    "\n",
    "#Reset Cluster Names, Higher Revenue, Higher Revenue Cluster\n",
    "buyers = clustersInOrder('Buyer_RevenueCluster', 'Buyer_Revenue', buyers, True)"
   ]
  },
  {
   "cell_type": "markdown",
   "id": "191b87a3",
   "metadata": {},
   "source": [
    "<h4>Scale RFM and Cluster</h4>"
   ]
  },
  {
   "cell_type": "code",
   "execution_count": 16,
   "id": "dd306b1c",
   "metadata": {},
   "outputs": [
    {
     "data": {
      "text/plain": [
       "Index(['Buyer_Recency', 'Buyer_Frequency', 'Buyer_Revenue', 'CustomerUniqueID',\n",
       "       'scale_recency', 'scale_frequency', 'scale_revenue',\n",
       "       'scale_recency_norm', 'scale_frequency_norm', 'scale_revenue_norm',\n",
       "       'Buyer_Overall_RFM_Scaled'],\n",
       "      dtype='object')"
      ]
     },
     "execution_count": 16,
     "metadata": {},
     "output_type": "execute_result"
    }
   ],
   "source": [
    "sub = buyers[['Buyer_Recency','Buyer_Frequency','Buyer_Revenue','CustomerUniqueID']]\n",
    "\n",
    "sub = sub.assign(scale_recency=sub.apply(lambda x: 1 - x['Buyer_Recency']/sub['Buyer_Recency'].max(),axis=1))\n",
    "sub = sub.assign(scale_frequency=sub.apply(lambda x: x['Buyer_Frequency']/sub['Buyer_Frequency'].max(),axis=1))\n",
    "sub = sub.assign(scale_revenue=sub.apply(lambda x: x['Buyer_Revenue']/sub['Buyer_Revenue'].max(),axis=1))\n",
    "\n",
    "sub = sub.assign(scale_recency_norm=sub.apply(lambda x: (x['scale_recency']-sub['scale_recency'].mean())/sub['scale_recency'].std(),axis=1))\n",
    "sub = sub.assign(scale_frequency_norm=sub.apply(lambda x: (x['scale_frequency']-sub['scale_frequency'].mean())/sub['scale_frequency'].std(),axis=1))\n",
    "sub = sub.assign(scale_revenue_norm=sub.apply(lambda x: (x['scale_revenue']-sub['scale_revenue'].mean())/sub['scale_revenue'].std(),axis=1))\n",
    "\n",
    "sub = sub.assign(Buyer_Overall_RFM_Scaled =sub.apply(lambda x: x['scale_recency']+x['scale_frequency']+x['scale_revenue'],axis=1))\n",
    "\n",
    "sub.columns"
   ]
  },
  {
   "cell_type": "code",
   "execution_count": 17,
   "id": "fddf36de",
   "metadata": {},
   "outputs": [
    {
     "data": {
      "text/html": [
       "<div>\n",
       "<style scoped>\n",
       "    .dataframe tbody tr th:only-of-type {\n",
       "        vertical-align: middle;\n",
       "    }\n",
       "\n",
       "    .dataframe tbody tr th {\n",
       "        vertical-align: top;\n",
       "    }\n",
       "\n",
       "    .dataframe thead th {\n",
       "        text-align: right;\n",
       "    }\n",
       "</style>\n",
       "<table border=\"1\" class=\"dataframe\">\n",
       "  <thead>\n",
       "    <tr style=\"text-align: right;\">\n",
       "      <th></th>\n",
       "      <th>scale_recency_norm</th>\n",
       "      <th>scale_frequency_norm</th>\n",
       "      <th>scale_revenue_norm</th>\n",
       "    </tr>\n",
       "  </thead>\n",
       "  <tbody>\n",
       "    <tr>\n",
       "      <th>count</th>\n",
       "      <td>9.446700e+04</td>\n",
       "      <td>9.446700e+04</td>\n",
       "      <td>9.446700e+04</td>\n",
       "    </tr>\n",
       "    <tr>\n",
       "      <th>mean</th>\n",
       "      <td>-3.548901e-14</td>\n",
       "      <td>1.221052e-13</td>\n",
       "      <td>2.912663e-15</td>\n",
       "    </tr>\n",
       "    <tr>\n",
       "      <th>std</th>\n",
       "      <td>1.000000e+00</td>\n",
       "      <td>1.000000e+00</td>\n",
       "      <td>1.000000e+00</td>\n",
       "    </tr>\n",
       "    <tr>\n",
       "      <th>min</th>\n",
       "      <td>-3.183575e+00</td>\n",
       "      <td>-2.107241e-01</td>\n",
       "      <td>-5.963686e-01</td>\n",
       "    </tr>\n",
       "    <tr>\n",
       "      <th>25%</th>\n",
       "      <td>-7.081747e-01</td>\n",
       "      <td>-2.107241e-01</td>\n",
       "      <td>-3.901887e-01</td>\n",
       "    </tr>\n",
       "    <tr>\n",
       "      <th>50%</th>\n",
       "      <td>1.235073e-01</td>\n",
       "      <td>-2.107241e-01</td>\n",
       "      <td>-2.414640e-01</td>\n",
       "    </tr>\n",
       "    <tr>\n",
       "      <th>75%</th>\n",
       "      <td>8.111184e-01</td>\n",
       "      <td>-2.107241e-01</td>\n",
       "      <td>1.776895e-02</td>\n",
       "    </tr>\n",
       "    <tr>\n",
       "      <th>max</th>\n",
       "      <td>1.583862e+00</td>\n",
       "      <td>5.160207e+01</td>\n",
       "      <td>4.395935e+01</td>\n",
       "    </tr>\n",
       "  </tbody>\n",
       "</table>\n",
       "</div>"
      ],
      "text/plain": [
       "       scale_recency_norm  scale_frequency_norm  scale_revenue_norm\n",
       "count        9.446700e+04          9.446700e+04        9.446700e+04\n",
       "mean        -3.548901e-14          1.221052e-13        2.912663e-15\n",
       "std          1.000000e+00          1.000000e+00        1.000000e+00\n",
       "min         -3.183575e+00         -2.107241e-01       -5.963686e-01\n",
       "25%         -7.081747e-01         -2.107241e-01       -3.901887e-01\n",
       "50%          1.235073e-01         -2.107241e-01       -2.414640e-01\n",
       "75%          8.111184e-01         -2.107241e-01        1.776895e-02\n",
       "max          1.583862e+00          5.160207e+01        4.395935e+01"
      ]
     },
     "execution_count": 17,
     "metadata": {},
     "output_type": "execute_result"
    }
   ],
   "source": [
    "sub[['scale_recency_norm','scale_frequency_norm','scale_revenue_norm']].describe()"
   ]
  },
  {
   "cell_type": "code",
   "execution_count": 18,
   "id": "e238f018",
   "metadata": {
    "scrolled": true
   },
   "outputs": [
    {
     "data": {
      "image/png": "[encoded data removed]",
      "text/plain": [
       "<Figure size 432x288 with 1 Axes>"
      ]
     },
     "metadata": {
      "needs_background": "light"
     },
     "output_type": "display_data"
    }
   ],
   "source": [
    "PrintKmeansInertiaGraphWithArray(sub,['scale_recency','scale_frequency','scale_revenue'])"
   ]
  },
  {
   "cell_type": "code",
   "execution_count": 19,
   "id": "40244b0f",
   "metadata": {},
   "outputs": [],
   "source": [
    "PerformKMeansWithArray(sub, ['scale_recency','scale_frequency','scale_revenue'], 6, 'Buyer_RFM_cluster')\n",
    "\n",
    "sub.groupby('Buyer_RFM_cluster')[['scale_recency','scale_frequency','scale_revenue']].mean().reset_index()\n",
    "\n",
    "buyers = buyers.merge(sub[['Buyer_RFM_cluster','CustomerUniqueID','Buyer_Overall_RFM_Scaled']], on='CustomerUniqueID')"
   ]
  },
  {
   "cell_type": "code",
   "execution_count": 20,
   "id": "9ea24419",
   "metadata": {},
   "outputs": [
    {
     "data": {
      "text/html": [
       "<div>\n",
       "<style scoped>\n",
       "    .dataframe tbody tr th:only-of-type {\n",
       "        vertical-align: middle;\n",
       "    }\n",
       "\n",
       "    .dataframe tbody tr th {\n",
       "        vertical-align: top;\n",
       "    }\n",
       "\n",
       "    .dataframe thead th {\n",
       "        text-align: right;\n",
       "    }\n",
       "</style>\n",
       "<table border=\"1\" class=\"dataframe\">\n",
       "  <thead>\n",
       "    <tr style=\"text-align: right;\">\n",
       "      <th></th>\n",
       "      <th>Buyer_RFM_cluster</th>\n",
       "      <th>scale_recency</th>\n",
       "      <th>scale_frequency</th>\n",
       "      <th>scale_revenue</th>\n",
       "    </tr>\n",
       "  </thead>\n",
       "  <tbody>\n",
       "    <tr>\n",
       "      <th>0</th>\n",
       "      <td>0</td>\n",
       "      <td>0.713586</td>\n",
       "      <td>0.066210</td>\n",
       "      <td>0.012485</td>\n",
       "    </tr>\n",
       "    <tr>\n",
       "      <th>1</th>\n",
       "      <td>1</td>\n",
       "      <td>0.280382</td>\n",
       "      <td>0.065454</td>\n",
       "      <td>0.013322</td>\n",
       "    </tr>\n",
       "    <tr>\n",
       "      <th>2</th>\n",
       "      <td>2</td>\n",
       "      <td>0.820607</td>\n",
       "      <td>0.066695</td>\n",
       "      <td>0.014127</td>\n",
       "    </tr>\n",
       "    <tr>\n",
       "      <th>3</th>\n",
       "      <td>3</td>\n",
       "      <td>0.595940</td>\n",
       "      <td>0.066161</td>\n",
       "      <td>0.013497</td>\n",
       "    </tr>\n",
       "    <tr>\n",
       "      <th>4</th>\n",
       "      <td>4</td>\n",
       "      <td>0.936729</td>\n",
       "      <td>0.066720</td>\n",
       "      <td>0.013629</td>\n",
       "    </tr>\n",
       "    <tr>\n",
       "      <th>5</th>\n",
       "      <td>5</td>\n",
       "      <td>0.448219</td>\n",
       "      <td>0.066264</td>\n",
       "      <td>0.013196</td>\n",
       "    </tr>\n",
       "  </tbody>\n",
       "</table>\n",
       "</div>"
      ],
      "text/plain": [
       "   Buyer_RFM_cluster  scale_recency  scale_frequency  scale_revenue\n",
       "0                  0       0.713586         0.066210       0.012485\n",
       "1                  1       0.280382         0.065454       0.013322\n",
       "2                  2       0.820607         0.066695       0.014127\n",
       "3                  3       0.595940         0.066161       0.013497\n",
       "4                  4       0.936729         0.066720       0.013629\n",
       "5                  5       0.448219         0.066264       0.013196"
      ]
     },
     "execution_count": 20,
     "metadata": {},
     "output_type": "execute_result"
    }
   ],
   "source": [
    "sub.groupby('Buyer_RFM_cluster')[['scale_recency','scale_frequency','scale_revenue']].mean().reset_index()"
   ]
  },
  {
   "cell_type": "code",
   "execution_count": 21,
   "id": "e27acadc",
   "metadata": {
    "scrolled": true
   },
   "outputs": [
    {
     "name": "stdout",
     "output_type": "stream",
     "text": [
      "Index(['CustomerUniqueID', 'Buyer_Recency', 'Buyer_RecencyCluster',\n",
      "       'Buyer_Frequency', 'Buyer_FrequencyCluster', 'Buyer_Revenue',\n",
      "       'Buyer_RevenueCluster', 'Buyer_RFM_cluster',\n",
      "       'Buyer_Overall_RFM_Scaled'],\n",
      "      dtype='object')\n"
     ]
    }
   ],
   "source": [
    "print(buyers.columns)\n",
    "buyers = clustersInOrder('Buyer_RFM_cluster', 'Buyer_Overall_RFM_Scaled', buyers, True)"
   ]
  },
  {
   "cell_type": "code",
   "execution_count": 22,
   "id": "ca5d5642",
   "metadata": {},
   "outputs": [
    {
     "data": {
      "text/html": [
       "<div>\n",
       "<style scoped>\n",
       "    .dataframe tbody tr th:only-of-type {\n",
       "        vertical-align: middle;\n",
       "    }\n",
       "\n",
       "    .dataframe tbody tr th {\n",
       "        vertical-align: top;\n",
       "    }\n",
       "\n",
       "    .dataframe thead th {\n",
       "        text-align: right;\n",
       "    }\n",
       "</style>\n",
       "<table border=\"1\" class=\"dataframe\">\n",
       "  <thead>\n",
       "    <tr style=\"text-align: right;\">\n",
       "      <th></th>\n",
       "      <th>Buyer_RevenueCluster</th>\n",
       "    </tr>\n",
       "    <tr>\n",
       "      <th>Buyer_RFM_cluster</th>\n",
       "      <th></th>\n",
       "    </tr>\n",
       "  </thead>\n",
       "  <tbody>\n",
       "    <tr>\n",
       "      <th>0</th>\n",
       "      <td>10219</td>\n",
       "    </tr>\n",
       "    <tr>\n",
       "      <th>1</th>\n",
       "      <td>13831</td>\n",
       "    </tr>\n",
       "    <tr>\n",
       "      <th>2</th>\n",
       "      <td>17360</td>\n",
       "    </tr>\n",
       "    <tr>\n",
       "      <th>3</th>\n",
       "      <td>17840</td>\n",
       "    </tr>\n",
       "    <tr>\n",
       "      <th>4</th>\n",
       "      <td>17624</td>\n",
       "    </tr>\n",
       "    <tr>\n",
       "      <th>5</th>\n",
       "      <td>17593</td>\n",
       "    </tr>\n",
       "  </tbody>\n",
       "</table>\n",
       "</div>"
      ],
      "text/plain": [
       "                   Buyer_RevenueCluster\n",
       "Buyer_RFM_cluster                      \n",
       "0                                 10219\n",
       "1                                 13831\n",
       "2                                 17360\n",
       "3                                 17840\n",
       "4                                 17624\n",
       "5                                 17593"
      ]
     },
     "execution_count": 22,
     "metadata": {},
     "output_type": "execute_result"
    }
   ],
   "source": [
    "buyers.groupby('Buyer_RFM_cluster')[['Buyer_RevenueCluster']].count()"
   ]
  },
  {
   "cell_type": "markdown",
   "id": "a1d3527b",
   "metadata": {},
   "source": [
    "<h4>Alternative RFM Clustering, sum RFM for overall score</h4>"
   ]
  },
  {
   "cell_type": "code",
   "execution_count": 23,
   "id": "fa8e205f",
   "metadata": {
    "scrolled": false
   },
   "outputs": [
    {
     "data": {
      "text/html": [
       "<div>\n",
       "<style scoped>\n",
       "    .dataframe tbody tr th:only-of-type {\n",
       "        vertical-align: middle;\n",
       "    }\n",
       "\n",
       "    .dataframe tbody tr th {\n",
       "        vertical-align: top;\n",
       "    }\n",
       "\n",
       "    .dataframe thead th {\n",
       "        text-align: right;\n",
       "    }\n",
       "</style>\n",
       "<table border=\"1\" class=\"dataframe\">\n",
       "  <thead>\n",
       "    <tr style=\"text-align: right;\">\n",
       "      <th></th>\n",
       "      <th>Buyer_Recency</th>\n",
       "      <th>Buyer_Frequency</th>\n",
       "      <th>Buyer_Revenue</th>\n",
       "    </tr>\n",
       "    <tr>\n",
       "      <th>Buyer_OverallRFMScore</th>\n",
       "      <th></th>\n",
       "      <th></th>\n",
       "      <th></th>\n",
       "    </tr>\n",
       "  </thead>\n",
       "  <tbody>\n",
       "    <tr>\n",
       "      <th>0</th>\n",
       "      <td>486.663311</td>\n",
       "      <td>1.000000</td>\n",
       "      <td>99.039346</td>\n",
       "    </tr>\n",
       "    <tr>\n",
       "      <th>1</th>\n",
       "      <td>335.639417</td>\n",
       "      <td>1.012381</td>\n",
       "      <td>125.317256</td>\n",
       "    </tr>\n",
       "    <tr>\n",
       "      <th>2</th>\n",
       "      <td>211.688372</td>\n",
       "      <td>1.029942</td>\n",
       "      <td>147.651778</td>\n",
       "    </tr>\n",
       "    <tr>\n",
       "      <th>3</th>\n",
       "      <td>96.443346</td>\n",
       "      <td>1.047355</td>\n",
       "      <td>171.845734</td>\n",
       "    </tr>\n",
       "    <tr>\n",
       "      <th>4</th>\n",
       "      <td>110.989366</td>\n",
       "      <td>1.300130</td>\n",
       "      <td>483.602628</td>\n",
       "    </tr>\n",
       "    <tr>\n",
       "      <th>5</th>\n",
       "      <td>110.011311</td>\n",
       "      <td>1.697937</td>\n",
       "      <td>893.757685</td>\n",
       "    </tr>\n",
       "    <tr>\n",
       "      <th>6</th>\n",
       "      <td>103.953157</td>\n",
       "      <td>2.207739</td>\n",
       "      <td>1487.894868</td>\n",
       "    </tr>\n",
       "    <tr>\n",
       "      <th>7</th>\n",
       "      <td>102.946667</td>\n",
       "      <td>2.866667</td>\n",
       "      <td>2482.782800</td>\n",
       "    </tr>\n",
       "    <tr>\n",
       "      <th>8</th>\n",
       "      <td>85.833333</td>\n",
       "      <td>4.208333</td>\n",
       "      <td>3333.663125</td>\n",
       "    </tr>\n",
       "    <tr>\n",
       "      <th>9</th>\n",
       "      <td>75.555556</td>\n",
       "      <td>4.333333</td>\n",
       "      <td>4164.014444</td>\n",
       "    </tr>\n",
       "  </tbody>\n",
       "</table>\n",
       "</div>"
      ],
      "text/plain": [
       "                       Buyer_Recency  Buyer_Frequency  Buyer_Revenue\n",
       "Buyer_OverallRFMScore                                               \n",
       "0                         486.663311         1.000000      99.039346\n",
       "1                         335.639417         1.012381     125.317256\n",
       "2                         211.688372         1.029942     147.651778\n",
       "3                          96.443346         1.047355     171.845734\n",
       "4                         110.989366         1.300130     483.602628\n",
       "5                         110.011311         1.697937     893.757685\n",
       "6                         103.953157         2.207739    1487.894868\n",
       "7                         102.946667         2.866667    2482.782800\n",
       "8                          85.833333         4.208333    3333.663125\n",
       "9                          75.555556         4.333333    4164.014444"
      ]
     },
     "execution_count": 23,
     "metadata": {},
     "output_type": "execute_result"
    }
   ],
   "source": [
    "#calculate overall score and use mean() to see details\n",
    "buyers['Buyer_OverallRFMScore'] = buyers['Buyer_RecencyCluster'] + buyers['Buyer_FrequencyCluster'] + buyers['Buyer_RevenueCluster']\n",
    "buyers['Buyer_OverallRFM_Raw'] = buyers['Buyer_Recency'] + buyers['Buyer_Frequency'] + buyers['Buyer_Revenue']\n",
    "\n",
    "buyers.groupby('Buyer_OverallRFMScore')[['Buyer_Recency','Buyer_Frequency','Buyer_Revenue']].mean()\n"
   ]
  },
  {
   "cell_type": "code",
   "execution_count": 24,
   "id": "38fa5057",
   "metadata": {
    "scrolled": true
   },
   "outputs": [
    {
     "data": {
      "text/html": [
       "<div>\n",
       "<style scoped>\n",
       "    .dataframe tbody tr th:only-of-type {\n",
       "        vertical-align: middle;\n",
       "    }\n",
       "\n",
       "    .dataframe tbody tr th {\n",
       "        vertical-align: top;\n",
       "    }\n",
       "\n",
       "    .dataframe thead th {\n",
       "        text-align: right;\n",
       "    }\n",
       "</style>\n",
       "<table border=\"1\" class=\"dataframe\">\n",
       "  <thead>\n",
       "    <tr style=\"text-align: right;\">\n",
       "      <th></th>\n",
       "      <th>Buyer_Recency</th>\n",
       "    </tr>\n",
       "    <tr>\n",
       "      <th>Buyer_OverallRFMScore</th>\n",
       "      <th></th>\n",
       "    </tr>\n",
       "  </thead>\n",
       "  <tbody>\n",
       "    <tr>\n",
       "      <th>0</th>\n",
       "      <td>13710</td>\n",
       "    </tr>\n",
       "    <tr>\n",
       "      <th>1</th>\n",
       "      <td>21970</td>\n",
       "    </tr>\n",
       "    <tr>\n",
       "      <th>2</th>\n",
       "      <td>26384</td>\n",
       "    </tr>\n",
       "    <tr>\n",
       "      <th>3</th>\n",
       "      <td>25594</td>\n",
       "    </tr>\n",
       "    <tr>\n",
       "      <th>4</th>\n",
       "      <td>4608</td>\n",
       "    </tr>\n",
       "    <tr>\n",
       "      <th>5</th>\n",
       "      <td>1503</td>\n",
       "    </tr>\n",
       "    <tr>\n",
       "      <th>6</th>\n",
       "      <td>491</td>\n",
       "    </tr>\n",
       "    <tr>\n",
       "      <th>7</th>\n",
       "      <td>150</td>\n",
       "    </tr>\n",
       "    <tr>\n",
       "      <th>8</th>\n",
       "      <td>48</td>\n",
       "    </tr>\n",
       "    <tr>\n",
       "      <th>9</th>\n",
       "      <td>9</td>\n",
       "    </tr>\n",
       "  </tbody>\n",
       "</table>\n",
       "</div>"
      ],
      "text/plain": [
       "                       Buyer_Recency\n",
       "Buyer_OverallRFMScore               \n",
       "0                              13710\n",
       "1                              21970\n",
       "2                              26384\n",
       "3                              25594\n",
       "4                               4608\n",
       "5                               1503\n",
       "6                                491\n",
       "7                                150\n",
       "8                                 48\n",
       "9                                  9"
      ]
     },
     "execution_count": 24,
     "metadata": {},
     "output_type": "execute_result"
    }
   ],
   "source": [
    "buyers.groupby('Buyer_OverallRFMScore')[['Buyer_Recency']].count()"
   ]
  },
  {
   "cell_type": "code",
   "execution_count": 25,
   "id": "c0476eaa",
   "metadata": {},
   "outputs": [],
   "source": [
    "#Assign labels\n",
    "buyers['Buyer_RFM_Ranking'] = '0) Lowest - Overall = 0'\n",
    "buyers.loc[buyers['Buyer_OverallRFMScore']>=1,'Buyer_RFM_Ranking'] ='1) Low - Overall > 0' \n",
    "buyers.loc[buyers['Buyer_OverallRFMScore']>=3, 'Buyer_RFM_Ranking'] = '2)Medium - Overall > 2' \n",
    "buyers.loc[buyers['Buyer_OverallRFMScore']>=6, 'Buyer_RFM_Ranking'] = '3) High - Overall > 5' \n",
    "buyers.loc[buyers['Buyer_OverallRFMScore']>=8, 'Buyer_RFM_Ranking'] = '4) Highest - Overall > 7' "
   ]
  },
  {
   "cell_type": "code",
   "execution_count": 26,
   "id": "169439a4",
   "metadata": {},
   "outputs": [
    {
     "data": {
      "text/html": [
       "<div>\n",
       "<style scoped>\n",
       "    .dataframe tbody tr th:only-of-type {\n",
       "        vertical-align: middle;\n",
       "    }\n",
       "\n",
       "    .dataframe tbody tr th {\n",
       "        vertical-align: top;\n",
       "    }\n",
       "\n",
       "    .dataframe thead th {\n",
       "        text-align: right;\n",
       "    }\n",
       "</style>\n",
       "<table border=\"1\" class=\"dataframe\">\n",
       "  <thead>\n",
       "    <tr style=\"text-align: right;\">\n",
       "      <th></th>\n",
       "      <th>Buyer_Recency</th>\n",
       "    </tr>\n",
       "    <tr>\n",
       "      <th>Buyer_RFM_Ranking</th>\n",
       "      <th></th>\n",
       "    </tr>\n",
       "  </thead>\n",
       "  <tbody>\n",
       "    <tr>\n",
       "      <th>0) Lowest - Overall = 0</th>\n",
       "      <td>13710</td>\n",
       "    </tr>\n",
       "    <tr>\n",
       "      <th>1) Low - Overall &gt; 0</th>\n",
       "      <td>48354</td>\n",
       "    </tr>\n",
       "    <tr>\n",
       "      <th>2)Medium - Overall &gt; 2</th>\n",
       "      <td>31705</td>\n",
       "    </tr>\n",
       "    <tr>\n",
       "      <th>3) High - Overall &gt; 5</th>\n",
       "      <td>641</td>\n",
       "    </tr>\n",
       "    <tr>\n",
       "      <th>4) Highest - Overall &gt; 7</th>\n",
       "      <td>57</td>\n",
       "    </tr>\n",
       "  </tbody>\n",
       "</table>\n",
       "</div>"
      ],
      "text/plain": [
       "                          Buyer_Recency\n",
       "Buyer_RFM_Ranking                      \n",
       "0) Lowest - Overall = 0           13710\n",
       "1) Low - Overall > 0              48354\n",
       "2)Medium - Overall > 2            31705\n",
       "3) High - Overall > 5               641\n",
       "4) Highest - Overall > 7             57"
      ]
     },
     "execution_count": 26,
     "metadata": {},
     "output_type": "execute_result"
    }
   ],
   "source": [
    "buyers.groupby('Buyer_RFM_Ranking')[['Buyer_Recency']].count()"
   ]
  },
  {
   "cell_type": "code",
   "execution_count": 27,
   "id": "fca6c706",
   "metadata": {
    "scrolled": true
   },
   "outputs": [
    {
     "data": {
      "text/html": [
       "<div>\n",
       "<style scoped>\n",
       "    .dataframe tbody tr th:only-of-type {\n",
       "        vertical-align: middle;\n",
       "    }\n",
       "\n",
       "    .dataframe tbody tr th {\n",
       "        vertical-align: top;\n",
       "    }\n",
       "\n",
       "    .dataframe thead th {\n",
       "        text-align: right;\n",
       "    }\n",
       "</style>\n",
       "<table border=\"1\" class=\"dataframe\">\n",
       "  <thead>\n",
       "    <tr style=\"text-align: right;\">\n",
       "      <th></th>\n",
       "      <th>CustomerUniqueID</th>\n",
       "      <th>Buyer_Recency</th>\n",
       "      <th>Buyer_RecencyCluster</th>\n",
       "      <th>Buyer_Frequency</th>\n",
       "      <th>Buyer_FrequencyCluster</th>\n",
       "      <th>Buyer_Revenue</th>\n",
       "      <th>Buyer_RevenueCluster</th>\n",
       "      <th>Buyer_Overall_RFM_Scaled</th>\n",
       "      <th>Buyer_RFM_cluster</th>\n",
       "      <th>Buyer_OverallRFMScore</th>\n",
       "      <th>Buyer_OverallRFM_Raw</th>\n",
       "      <th>Buyer_RFM_Ranking</th>\n",
       "    </tr>\n",
       "  </thead>\n",
       "  <tbody>\n",
       "    <tr>\n",
       "      <th>0</th>\n",
       "      <td>7c396fd4830fd04220f754e42b4e5bff</td>\n",
       "      <td>335</td>\n",
       "      <td>1</td>\n",
       "      <td>2</td>\n",
       "      <td>1</td>\n",
       "      <td>82.82</td>\n",
       "      <td>0</td>\n",
       "      <td>0.670896</td>\n",
       "      <td>2</td>\n",
       "      <td>2</td>\n",
       "      <td>419.82</td>\n",
       "      <td>1) Low - Overall &gt; 0</td>\n",
       "    </tr>\n",
       "    <tr>\n",
       "      <th>1</th>\n",
       "      <td>0a5df23b922b9998bb7378f1ac03c98a</td>\n",
       "      <td>338</td>\n",
       "      <td>1</td>\n",
       "      <td>2</td>\n",
       "      <td>1</td>\n",
       "      <td>193.83</td>\n",
       "      <td>0</td>\n",
       "      <td>0.674900</td>\n",
       "      <td>2</td>\n",
       "      <td>2</td>\n",
       "      <td>533.83</td>\n",
       "      <td>1) Low - Overall &gt; 0</td>\n",
       "    </tr>\n",
       "    <tr>\n",
       "      <th>2</th>\n",
       "      <td>95cfb39a7e263160308a934e42cfc4e0</td>\n",
       "      <td>287</td>\n",
       "      <td>1</td>\n",
       "      <td>2</td>\n",
       "      <td>1</td>\n",
       "      <td>122.05</td>\n",
       "      <td>0</td>\n",
       "      <td>0.739701</td>\n",
       "      <td>2</td>\n",
       "      <td>2</td>\n",
       "      <td>411.05</td>\n",
       "      <td>1) Low - Overall &gt; 0</td>\n",
       "    </tr>\n",
       "    <tr>\n",
       "      <th>3</th>\n",
       "      <td>646d643b4ac1184e383341f8896c3dc8</td>\n",
       "      <td>286</td>\n",
       "      <td>1</td>\n",
       "      <td>2</td>\n",
       "      <td>1</td>\n",
       "      <td>178.04</td>\n",
       "      <td>0</td>\n",
       "      <td>0.745173</td>\n",
       "      <td>2</td>\n",
       "      <td>2</td>\n",
       "      <td>466.04</td>\n",
       "      <td>1) Low - Overall &gt; 0</td>\n",
       "    </tr>\n",
       "    <tr>\n",
       "      <th>4</th>\n",
       "      <td>6457b2cb5462c1217e8e6d36b0ff39d2</td>\n",
       "      <td>288</td>\n",
       "      <td>1</td>\n",
       "      <td>2</td>\n",
       "      <td>1</td>\n",
       "      <td>171.00</td>\n",
       "      <td>0</td>\n",
       "      <td>0.741910</td>\n",
       "      <td>2</td>\n",
       "      <td>2</td>\n",
       "      <td>461.00</td>\n",
       "      <td>1) Low - Overall &gt; 0</td>\n",
       "    </tr>\n",
       "  </tbody>\n",
       "</table>\n",
       "</div>"
      ],
      "text/plain": [
       "                   CustomerUniqueID  Buyer_Recency  Buyer_RecencyCluster  \\\n",
       "0  7c396fd4830fd04220f754e42b4e5bff            335                     1   \n",
       "1  0a5df23b922b9998bb7378f1ac03c98a            338                     1   \n",
       "2  95cfb39a7e263160308a934e42cfc4e0            287                     1   \n",
       "3  646d643b4ac1184e383341f8896c3dc8            286                     1   \n",
       "4  6457b2cb5462c1217e8e6d36b0ff39d2            288                     1   \n",
       "\n",
       "   Buyer_Frequency  Buyer_FrequencyCluster  Buyer_Revenue  \\\n",
       "0                2                       1          82.82   \n",
       "1                2                       1         193.83   \n",
       "2                2                       1         122.05   \n",
       "3                2                       1         178.04   \n",
       "4                2                       1         171.00   \n",
       "\n",
       "   Buyer_RevenueCluster  Buyer_Overall_RFM_Scaled  Buyer_RFM_cluster  \\\n",
       "0                     0                  0.670896                  2   \n",
       "1                     0                  0.674900                  2   \n",
       "2                     0                  0.739701                  2   \n",
       "3                     0                  0.745173                  2   \n",
       "4                     0                  0.741910                  2   \n",
       "\n",
       "   Buyer_OverallRFMScore  Buyer_OverallRFM_Raw     Buyer_RFM_Ranking  \n",
       "0                      2                419.82  1) Low - Overall > 0  \n",
       "1                      2                533.83  1) Low - Overall > 0  \n",
       "2                      2                411.05  1) Low - Overall > 0  \n",
       "3                      2                466.04  1) Low - Overall > 0  \n",
       "4                      2                461.00  1) Low - Overall > 0  "
      ]
     },
     "execution_count": 27,
     "metadata": {},
     "output_type": "execute_result"
    }
   ],
   "source": [
    "buyers.head()"
   ]
  },
  {
   "cell_type": "markdown",
   "id": "c405a117",
   "metadata": {},
   "source": [
    "<div class=\"span5 alert alert-info\">\n",
    "<h3>Sellers</h3>\n",
    "</div>"
   ]
  },
  {
   "cell_type": "markdown",
   "id": "27347006",
   "metadata": {},
   "source": [
    "<h4>Recency</h4>"
   ]
  },
  {
   "cell_type": "code",
   "execution_count": 28,
   "id": "ed65696a",
   "metadata": {},
   "outputs": [
    {
     "name": "stdout",
     "output_type": "stream",
     "text": [
      "count    2977.000000\n",
      "mean      134.126638\n",
      "std       163.831359\n",
      "min         0.000000\n",
      "25%        17.000000\n",
      "50%        46.000000\n",
      "75%       210.000000\n",
      "max       699.000000\n",
      "Name: Seller_Recency, dtype: float64\n"
     ]
    },
    {
     "data": {
      "image/png": "[encoded data removed]",
      "text/plain": [
       "<Figure size 432x288 with 1 Axes>"
      ]
     },
     "metadata": {
      "needs_background": "light"
     },
     "output_type": "display_data"
    }
   ],
   "source": [
    "#Recency Score Calc\n",
    "sellers = pd.DataFrame(OL_Data['seller_id'].unique())\n",
    "sellers.columns=['SellerID']\n",
    "\n",
    "sellerMaxSale = OL_Data.groupby('seller_id').order_purchase_timestamp.max().reset_index()\n",
    "sellerMaxSale.columns = ['SellerID', 'MaxSaleDate']\n",
    "\n",
    "sellerMaxSale['Seller_Recency'] = (sellerMaxSale['MaxSaleDate'].max() - sellerMaxSale['MaxSaleDate']).dt.days\n",
    "\n",
    "sellers = pd.merge(sellers, sellerMaxSale[['SellerID','Seller_Recency']])\n",
    "\n",
    "print(sellers['Seller_Recency'].describe())\n",
    "sellers.Seller_Recency.sort_values().hist(bins=100)\n",
    "plt.show()"
   ]
  },
  {
   "cell_type": "markdown",
   "id": "1a7d9133",
   "metadata": {},
   "source": [
    "<h4>Frequency</h4>"
   ]
  },
  {
   "cell_type": "code",
   "execution_count": 29,
   "id": "4ee8dd26",
   "metadata": {},
   "outputs": [
    {
     "name": "stdout",
     "output_type": "stream",
     "text": [
      "count    2977.000000\n",
      "mean       33.667786\n",
      "std       108.081772\n",
      "min         1.000000\n",
      "25%         2.000000\n",
      "50%         7.000000\n",
      "75%        22.000000\n",
      "max      1865.000000\n",
      "Name: Seller_Frequency, dtype: float64\n"
     ]
    },
    {
     "data": {
      "image/png": "[encoded data removed]",
      "text/plain": [
       "<Figure size 432x288 with 1 Axes>"
      ]
     },
     "metadata": {
      "needs_background": "light"
     },
     "output_type": "display_data"
    }
   ],
   "source": [
    "#Frequency\n",
    "freq = OL_Data.groupby('seller_id').order_id.count().reset_index()\n",
    "freq.columns = ['SellerID','Seller_Frequency']\n",
    "freq.head()\n",
    "\n",
    "sellers = pd.merge(sellers,freq, on='SellerID')\n",
    "\n",
    "print(sellers['Seller_Frequency'].describe())\n",
    "sellers.Seller_Frequency.sort_values().hist(bins=16)\n",
    "plt.show()"
   ]
  },
  {
   "cell_type": "markdown",
   "id": "40c5d6f8",
   "metadata": {},
   "source": [
    "<h4>Revenue</h4>"
   ]
  },
  {
   "cell_type": "code",
   "execution_count": 30,
   "id": "99e3b5e4",
   "metadata": {},
   "outputs": [
    {
     "name": "stdout",
     "output_type": "stream",
     "text": [
      "count      2977.000000\n",
      "mean       5803.513779\n",
      "std       17929.475314\n",
      "min          15.220000\n",
      "25%         315.440000\n",
      "50%        1164.380000\n",
      "75%        4533.870000\n",
      "max      301542.650000\n",
      "Name: Seller_Revenue, dtype: float64\n"
     ]
    },
    {
     "data": {
      "image/png": "[encoded data removed]",
      "text/plain": [
       "<Figure size 432x288 with 1 Axes>"
      ]
     },
     "metadata": {
      "needs_background": "light"
     },
     "output_type": "display_data"
    }
   ],
   "source": [
    "#Revenue\n",
    "rev = OL_Data.groupby('seller_id').Total_payment.sum().reset_index()\n",
    "rev.columns = ['SellerID','Seller_Revenue']\n",
    "\n",
    "sellers = pd.merge(sellers, rev, on='SellerID')\n",
    "\n",
    "print(sellers['Seller_Revenue'].describe())\n",
    "sellers.Seller_Revenue.sort_values().hist(bins=16)\n",
    "plt.show()"
   ]
  },
  {
   "cell_type": "code",
   "execution_count": 31,
   "id": "f9f3c98a",
   "metadata": {},
   "outputs": [
    {
     "data": {
      "image/png": "[encoded data removed]",
      "text/plain": [
       "<Figure size 432x288 with 1 Axes>"
      ]
     },
     "metadata": {
      "needs_background": "light"
     },
     "output_type": "display_data"
    },
    {
     "data": {
      "image/png": "[encoded data removed]",
      "text/plain": [
       "<Figure size 432x288 with 1 Axes>"
      ]
     },
     "metadata": {
      "needs_background": "light"
     },
     "output_type": "display_data"
    },
    {
     "data": {
      "image/png": "[encoded data removed]",
      "text/plain": [
       "<Figure size 432x288 with 1 Axes>"
      ]
     },
     "metadata": {
      "needs_background": "light"
     },
     "output_type": "display_data"
    }
   ],
   "source": [
    "\n",
    "PrintKmeansInertiaGraph(sellers,'Seller_Recency')\n",
    "PrintKmeansInertiaGraph(sellers,'Seller_Frequency')\n",
    "PrintKmeansInertiaGraph(sellers,'Seller_Revenue')"
   ]
  },
  {
   "cell_type": "code",
   "execution_count": 32,
   "id": "69de2257",
   "metadata": {},
   "outputs": [
    {
     "name": "stdout",
     "output_type": "stream",
     "text": [
      "                       Seller_Recency  Seller_Frequency  Seller_Revenue\n",
      "Seller_RecencyCluster                                                  \n",
      "0                          525.810909          3.876364      845.615345\n",
      "1                          318.817708          9.203125     1661.556224\n",
      "2                          156.729885         15.829502     3194.718927\n",
      "3                           28.094655         48.644766     8206.478524\n"
     ]
    }
   ],
   "source": [
    "#Generate Revenue Clusters, named 'RevenueCluster'\n",
    "PerformKMeans(sellers,'Seller_Recency', 4)\n",
    "#Reset Cluster Names, Higher Revenue, Higher Revenue Cluster\n",
    "sellers = clustersInOrder('Seller_RecencyCluster', 'Seller_Recency', sellers, False)\n",
    "\n",
    "print(sellers.groupby('Seller_RecencyCluster').mean())\n",
    "\n",
    "#Generate Recency Clusters, named 'FrequencyCluster'\n",
    "PerformKMeans(sellers,'Seller_Frequency', 4)\n",
    "#Reset Cluster Names, Higher Frequency = More Frequent, Higher Frequency Cluster\n",
    "sellers = clustersInOrder('Seller_FrequencyCluster', 'Seller_Frequency', sellers, True)\n",
    "\n",
    "#Generate Revenue Clusters, named 'RevenueCluster'\n",
    "PerformKMeans(sellers,'Seller_Revenue', 5)\n",
    "#Reset Cluster Names, Higher Revenue, Higher Revenue Cluster\n",
    "sellers = clustersInOrder('Seller_RevenueCluster', 'Seller_Revenue', sellers, True)"
   ]
  },
  {
   "cell_type": "markdown",
   "id": "2f5560c1",
   "metadata": {},
   "source": [
    "<h4>Scale RFM and Cluster</h4>"
   ]
  },
  {
   "cell_type": "code",
   "execution_count": 33,
   "id": "c9af1e71",
   "metadata": {},
   "outputs": [
    {
     "data": {
      "text/html": [
       "<div>\n",
       "<style scoped>\n",
       "    .dataframe tbody tr th:only-of-type {\n",
       "        vertical-align: middle;\n",
       "    }\n",
       "\n",
       "    .dataframe tbody tr th {\n",
       "        vertical-align: top;\n",
       "    }\n",
       "\n",
       "    .dataframe thead th {\n",
       "        text-align: right;\n",
       "    }\n",
       "</style>\n",
       "<table border=\"1\" class=\"dataframe\">\n",
       "  <thead>\n",
       "    <tr style=\"text-align: right;\">\n",
       "      <th></th>\n",
       "      <th>Seller_Recency</th>\n",
       "      <th>Seller_Frequency</th>\n",
       "      <th>Seller_Revenue</th>\n",
       "      <th>SellerID</th>\n",
       "      <th>scale_recency</th>\n",
       "      <th>scale_frequency</th>\n",
       "      <th>scale_revenue</th>\n",
       "      <th>Seller_Overall_RFM_Scaled</th>\n",
       "    </tr>\n",
       "  </thead>\n",
       "  <tbody>\n",
       "    <tr>\n",
       "      <th>0</th>\n",
       "      <td>300</td>\n",
       "      <td>53</td>\n",
       "      <td>3177.71</td>\n",
       "      <td>3504c0cb71d7fa48d967e0e4c94d59d9</td>\n",
       "      <td>0.570815</td>\n",
       "      <td>0.028418</td>\n",
       "      <td>0.010538</td>\n",
       "      <td>0.609772</td>\n",
       "    </tr>\n",
       "    <tr>\n",
       "      <th>1</th>\n",
       "      <td>345</td>\n",
       "      <td>6</td>\n",
       "      <td>1125.49</td>\n",
       "      <td>633ecdf879b94b5337cca303328e4a25</td>\n",
       "      <td>0.506438</td>\n",
       "      <td>0.003217</td>\n",
       "      <td>0.003732</td>\n",
       "      <td>0.513387</td>\n",
       "    </tr>\n",
       "    <tr>\n",
       "      <th>2</th>\n",
       "      <td>277</td>\n",
       "      <td>10</td>\n",
       "      <td>2062.45</td>\n",
       "      <td>f5f46307a4d15880ca14fab4ad9dfc9b</td>\n",
       "      <td>0.603720</td>\n",
       "      <td>0.005362</td>\n",
       "      <td>0.006840</td>\n",
       "      <td>0.615921</td>\n",
       "    </tr>\n",
       "    <tr>\n",
       "      <th>3</th>\n",
       "      <td>339</td>\n",
       "      <td>26</td>\n",
       "      <td>2462.81</td>\n",
       "      <td>c8417879a15366a17c30af34c798c332</td>\n",
       "      <td>0.515021</td>\n",
       "      <td>0.013941</td>\n",
       "      <td>0.008167</td>\n",
       "      <td>0.537130</td>\n",
       "    </tr>\n",
       "    <tr>\n",
       "      <th>4</th>\n",
       "      <td>284</td>\n",
       "      <td>40</td>\n",
       "      <td>2870.32</td>\n",
       "      <td>6df688df543f90e9b38f4319e75a9d88</td>\n",
       "      <td>0.593705</td>\n",
       "      <td>0.021448</td>\n",
       "      <td>0.009519</td>\n",
       "      <td>0.624672</td>\n",
       "    </tr>\n",
       "  </tbody>\n",
       "</table>\n",
       "</div>"
      ],
      "text/plain": [
       "   Seller_Recency  Seller_Frequency  Seller_Revenue  \\\n",
       "0             300                53         3177.71   \n",
       "1             345                 6         1125.49   \n",
       "2             277                10         2062.45   \n",
       "3             339                26         2462.81   \n",
       "4             284                40         2870.32   \n",
       "\n",
       "                           SellerID  scale_recency  scale_frequency  \\\n",
       "0  3504c0cb71d7fa48d967e0e4c94d59d9       0.570815         0.028418   \n",
       "1  633ecdf879b94b5337cca303328e4a25       0.506438         0.003217   \n",
       "2  f5f46307a4d15880ca14fab4ad9dfc9b       0.603720         0.005362   \n",
       "3  c8417879a15366a17c30af34c798c332       0.515021         0.013941   \n",
       "4  6df688df543f90e9b38f4319e75a9d88       0.593705         0.021448   \n",
       "\n",
       "   scale_revenue  Seller_Overall_RFM_Scaled  \n",
       "0       0.010538                   0.609772  \n",
       "1       0.003732                   0.513387  \n",
       "2       0.006840                   0.615921  \n",
       "3       0.008167                   0.537130  \n",
       "4       0.009519                   0.624672  "
      ]
     },
     "execution_count": 33,
     "metadata": {},
     "output_type": "execute_result"
    }
   ],
   "source": [
    "sub = sellers[['Seller_Recency','Seller_Frequency','Seller_Revenue','SellerID']]\n",
    "\n",
    "sub = sub.assign(scale_recency=sub.apply(lambda x: 1 - x['Seller_Recency']/sub['Seller_Recency'].max(),axis=1))\n",
    "sub = sub.assign(scale_frequency=sub.apply(lambda x: x['Seller_Frequency']/sub['Seller_Frequency'].max(),axis=1))\n",
    "sub = sub.assign(scale_revenue=sub.apply(lambda x: x['Seller_Revenue']/sub['Seller_Revenue'].max(),axis=1))\n",
    "\n",
    "sub = sub.assign(Seller_Overall_RFM_Scaled =sub.apply(lambda x: x['scale_recency']+x['scale_frequency']+x['scale_revenue'],axis=1))\n",
    "\n",
    "\n",
    "sub.head()"
   ]
  },
  {
   "cell_type": "code",
   "execution_count": 34,
   "id": "105650c6",
   "metadata": {},
   "outputs": [
    {
     "data": {
      "image/png": "[encoded data removed]",
      "text/plain": [
       "<Figure size 432x288 with 1 Axes>"
      ]
     },
     "metadata": {
      "needs_background": "light"
     },
     "output_type": "display_data"
    }
   ],
   "source": [
    "PrintKmeansInertiaGraphWithArray(sub,['scale_recency','scale_frequency','scale_revenue'])"
   ]
  },
  {
   "cell_type": "code",
   "execution_count": 35,
   "id": "4133e6d3",
   "metadata": {
    "scrolled": true
   },
   "outputs": [
    {
     "data": {
      "text/plain": [
       "Index(['SellerID', 'Seller_Recency', 'Seller_Frequency', 'Seller_Revenue',\n",
       "       'Seller_RecencyCluster', 'Seller_FrequencyCluster',\n",
       "       'Seller_RevenueCluster', 'Seller_RFM_cluster',\n",
       "       'Seller_Overall_RFM_Scaled', 'Seller_OverallRFMScore',\n",
       "       'Seller_OverallRFM_Raw'],\n",
       "      dtype='object')"
      ]
     },
     "execution_count": 35,
     "metadata": {},
     "output_type": "execute_result"
    }
   ],
   "source": [
    "PerformKMeansWithArray(sub, ['scale_recency','scale_frequency','scale_revenue'], 5, 'Seller_RFM_cluster')\n",
    "sellers = sellers.merge(sub[['Seller_RFM_cluster','SellerID','Seller_Overall_RFM_Scaled']], on='SellerID')\n",
    "\n",
    "sellers['Seller_OverallRFMScore'] = sellers['Seller_RecencyCluster'] + sellers['Seller_FrequencyCluster'] + sellers['Seller_RevenueCluster']\n",
    "sellers['Seller_OverallRFM_Raw'] = sellers['Seller_Recency'] + sellers['Seller_Frequency'] + sellers['Seller_Revenue']\n",
    "sellers.columns"
   ]
  },
  {
   "cell_type": "code",
   "execution_count": 36,
   "id": "de5d4aeb",
   "metadata": {},
   "outputs": [],
   "source": [
    "sellers = clustersInOrder('Seller_RFM_cluster', 'Seller_Overall_RFM_Scaled', sellers, True)"
   ]
  },
  {
   "cell_type": "code",
   "execution_count": 37,
   "id": "24d9fa39",
   "metadata": {},
   "outputs": [
    {
     "data": {
      "text/html": [
       "<div>\n",
       "<style scoped>\n",
       "    .dataframe tbody tr th:only-of-type {\n",
       "        vertical-align: middle;\n",
       "    }\n",
       "\n",
       "    .dataframe tbody tr th {\n",
       "        vertical-align: top;\n",
       "    }\n",
       "\n",
       "    .dataframe thead th {\n",
       "        text-align: right;\n",
       "    }\n",
       "</style>\n",
       "<table border=\"1\" class=\"dataframe\">\n",
       "  <thead>\n",
       "    <tr style=\"text-align: right;\">\n",
       "      <th></th>\n",
       "      <th>Seller_RevenueCluster</th>\n",
       "    </tr>\n",
       "    <tr>\n",
       "      <th>Seller_RFM_cluster</th>\n",
       "      <th></th>\n",
       "    </tr>\n",
       "  </thead>\n",
       "  <tbody>\n",
       "    <tr>\n",
       "      <th>0</th>\n",
       "      <td>278</td>\n",
       "    </tr>\n",
       "    <tr>\n",
       "      <th>1</th>\n",
       "      <td>391</td>\n",
       "    </tr>\n",
       "    <tr>\n",
       "      <th>2</th>\n",
       "      <td>530</td>\n",
       "    </tr>\n",
       "    <tr>\n",
       "      <th>3</th>\n",
       "      <td>1755</td>\n",
       "    </tr>\n",
       "    <tr>\n",
       "      <th>4</th>\n",
       "      <td>23</td>\n",
       "    </tr>\n",
       "  </tbody>\n",
       "</table>\n",
       "</div>"
      ],
      "text/plain": [
       "                    Seller_RevenueCluster\n",
       "Seller_RFM_cluster                       \n",
       "0                                     278\n",
       "1                                     391\n",
       "2                                     530\n",
       "3                                    1755\n",
       "4                                      23"
      ]
     },
     "execution_count": 37,
     "metadata": {},
     "output_type": "execute_result"
    }
   ],
   "source": [
    "sellers.groupby('Seller_RFM_cluster')[['Seller_RevenueCluster']].count()"
   ]
  },
  {
   "cell_type": "markdown",
   "id": "d5dbe252",
   "metadata": {},
   "source": [
    "<h4>Alternative RFM Clustering, sum RFM for overall score</h4>"
   ]
  },
  {
   "cell_type": "code",
   "execution_count": 38,
   "id": "8f7e71ed",
   "metadata": {},
   "outputs": [
    {
     "data": {
      "text/html": [
       "<div>\n",
       "<style scoped>\n",
       "    .dataframe tbody tr th:only-of-type {\n",
       "        vertical-align: middle;\n",
       "    }\n",
       "\n",
       "    .dataframe tbody tr th {\n",
       "        vertical-align: top;\n",
       "    }\n",
       "\n",
       "    .dataframe thead th {\n",
       "        text-align: right;\n",
       "    }\n",
       "</style>\n",
       "<table border=\"1\" class=\"dataframe\">\n",
       "  <thead>\n",
       "    <tr style=\"text-align: right;\">\n",
       "      <th></th>\n",
       "      <th>Seller_Recency</th>\n",
       "      <th>Seller_Frequency</th>\n",
       "      <th>Seller_Revenue</th>\n",
       "    </tr>\n",
       "    <tr>\n",
       "      <th>Seller_OverallRFMScore</th>\n",
       "      <th></th>\n",
       "      <th></th>\n",
       "      <th></th>\n",
       "    </tr>\n",
       "  </thead>\n",
       "  <tbody>\n",
       "    <tr>\n",
       "      <th>0</th>\n",
       "      <td>526.080586</td>\n",
       "      <td>3.542125</td>\n",
       "      <td>743.819670</td>\n",
       "    </tr>\n",
       "    <tr>\n",
       "      <th>1</th>\n",
       "      <td>318.686486</td>\n",
       "      <td>7.081081</td>\n",
       "      <td>1177.367649</td>\n",
       "    </tr>\n",
       "    <tr>\n",
       "      <th>2</th>\n",
       "      <td>161.903292</td>\n",
       "      <td>8.895062</td>\n",
       "      <td>1693.394198</td>\n",
       "    </tr>\n",
       "    <tr>\n",
       "      <th>3</th>\n",
       "      <td>33.464888</td>\n",
       "      <td>13.650281</td>\n",
       "      <td>2291.865049</td>\n",
       "    </tr>\n",
       "    <tr>\n",
       "      <th>4</th>\n",
       "      <td>34.441341</td>\n",
       "      <td>61.865922</td>\n",
       "      <td>13165.576704</td>\n",
       "    </tr>\n",
       "    <tr>\n",
       "      <th>5</th>\n",
       "      <td>23.320513</td>\n",
       "      <td>127.692308</td>\n",
       "      <td>20070.839359</td>\n",
       "    </tr>\n",
       "    <tr>\n",
       "      <th>6</th>\n",
       "      <td>22.560976</td>\n",
       "      <td>232.658537</td>\n",
       "      <td>46439.367073</td>\n",
       "    </tr>\n",
       "    <tr>\n",
       "      <th>7</th>\n",
       "      <td>14.851852</td>\n",
       "      <td>425.074074</td>\n",
       "      <td>53798.847037</td>\n",
       "    </tr>\n",
       "    <tr>\n",
       "      <th>8</th>\n",
       "      <td>22.625000</td>\n",
       "      <td>638.875000</td>\n",
       "      <td>128986.017500</td>\n",
       "    </tr>\n",
       "    <tr>\n",
       "      <th>9</th>\n",
       "      <td>7.375000</td>\n",
       "      <td>1187.125000</td>\n",
       "      <td>175086.316250</td>\n",
       "    </tr>\n",
       "    <tr>\n",
       "      <th>10</th>\n",
       "      <td>10.600000</td>\n",
       "      <td>1252.600000</td>\n",
       "      <td>254983.110000</td>\n",
       "    </tr>\n",
       "  </tbody>\n",
       "</table>\n",
       "</div>"
      ],
      "text/plain": [
       "                        Seller_Recency  Seller_Frequency  Seller_Revenue\n",
       "Seller_OverallRFMScore                                                  \n",
       "0                           526.080586          3.542125      743.819670\n",
       "1                           318.686486          7.081081     1177.367649\n",
       "2                           161.903292          8.895062     1693.394198\n",
       "3                            33.464888         13.650281     2291.865049\n",
       "4                            34.441341         61.865922    13165.576704\n",
       "5                            23.320513        127.692308    20070.839359\n",
       "6                            22.560976        232.658537    46439.367073\n",
       "7                            14.851852        425.074074    53798.847037\n",
       "8                            22.625000        638.875000   128986.017500\n",
       "9                             7.375000       1187.125000   175086.316250\n",
       "10                           10.600000       1252.600000   254983.110000"
      ]
     },
     "execution_count": 38,
     "metadata": {},
     "output_type": "execute_result"
    }
   ],
   "source": [
    "#calculate overall score and use mean() to see details\n",
    "sellers['Seller_OverallRFMScore'] = sellers['Seller_RecencyCluster'] + sellers['Seller_FrequencyCluster'] + sellers['Seller_RevenueCluster']\n",
    "sellers.groupby('Seller_OverallRFMScore')[['Seller_Recency','Seller_Frequency','Seller_Revenue']].mean()\n",
    "\n"
   ]
  },
  {
   "cell_type": "code",
   "execution_count": 39,
   "id": "fad45bfc",
   "metadata": {},
   "outputs": [
    {
     "data": {
      "text/html": [
       "<div>\n",
       "<style scoped>\n",
       "    .dataframe tbody tr th:only-of-type {\n",
       "        vertical-align: middle;\n",
       "    }\n",
       "\n",
       "    .dataframe tbody tr th {\n",
       "        vertical-align: top;\n",
       "    }\n",
       "\n",
       "    .dataframe thead th {\n",
       "        text-align: right;\n",
       "    }\n",
       "</style>\n",
       "<table border=\"1\" class=\"dataframe\">\n",
       "  <thead>\n",
       "    <tr style=\"text-align: right;\">\n",
       "      <th></th>\n",
       "      <th>Seller_Revenue</th>\n",
       "    </tr>\n",
       "    <tr>\n",
       "      <th>Seller_OverallRFMScore</th>\n",
       "      <th></th>\n",
       "    </tr>\n",
       "  </thead>\n",
       "  <tbody>\n",
       "    <tr>\n",
       "      <th>0</th>\n",
       "      <td>273</td>\n",
       "    </tr>\n",
       "    <tr>\n",
       "      <th>1</th>\n",
       "      <td>370</td>\n",
       "    </tr>\n",
       "    <tr>\n",
       "      <th>2</th>\n",
       "      <td>486</td>\n",
       "    </tr>\n",
       "    <tr>\n",
       "      <th>3</th>\n",
       "      <td>1424</td>\n",
       "    </tr>\n",
       "    <tr>\n",
       "      <th>4</th>\n",
       "      <td>179</td>\n",
       "    </tr>\n",
       "    <tr>\n",
       "      <th>5</th>\n",
       "      <td>156</td>\n",
       "    </tr>\n",
       "    <tr>\n",
       "      <th>6</th>\n",
       "      <td>41</td>\n",
       "    </tr>\n",
       "    <tr>\n",
       "      <th>7</th>\n",
       "      <td>27</td>\n",
       "    </tr>\n",
       "    <tr>\n",
       "      <th>8</th>\n",
       "      <td>8</td>\n",
       "    </tr>\n",
       "    <tr>\n",
       "      <th>9</th>\n",
       "      <td>8</td>\n",
       "    </tr>\n",
       "    <tr>\n",
       "      <th>10</th>\n",
       "      <td>5</td>\n",
       "    </tr>\n",
       "  </tbody>\n",
       "</table>\n",
       "</div>"
      ],
      "text/plain": [
       "                        Seller_Revenue\n",
       "Seller_OverallRFMScore                \n",
       "0                                  273\n",
       "1                                  370\n",
       "2                                  486\n",
       "3                                 1424\n",
       "4                                  179\n",
       "5                                  156\n",
       "6                                   41\n",
       "7                                   27\n",
       "8                                    8\n",
       "9                                    8\n",
       "10                                   5"
      ]
     },
     "execution_count": 39,
     "metadata": {},
     "output_type": "execute_result"
    }
   ],
   "source": [
    "sellers.groupby('Seller_OverallRFMScore')[['Seller_Revenue']].count()"
   ]
  },
  {
   "cell_type": "code",
   "execution_count": 40,
   "id": "f28cdced",
   "metadata": {},
   "outputs": [],
   "source": [
    "sellers['Seller_RFM_Ranking'] = '0) Lowest - Overall = 0'\n",
    "sellers.loc[sellers['Seller_OverallRFMScore']>=1,'Seller_RFM_Ranking'] ='1) Low - Overall > 0' \n",
    "sellers.loc[sellers['Seller_OverallRFMScore']>=4, 'Seller_RFM_Ranking'] = '2) Medium - Overall > 4'\n",
    "sellers.loc[sellers['Seller_OverallRFMScore']>=6, 'Seller_RFM_Ranking'] = '3) High - Overall > 6'"
   ]
  },
  {
   "cell_type": "code",
   "execution_count": 41,
   "id": "e01a8424",
   "metadata": {},
   "outputs": [
    {
     "data": {
      "text/html": [
       "<div>\n",
       "<style scoped>\n",
       "    .dataframe tbody tr th:only-of-type {\n",
       "        vertical-align: middle;\n",
       "    }\n",
       "\n",
       "    .dataframe tbody tr th {\n",
       "        vertical-align: top;\n",
       "    }\n",
       "\n",
       "    .dataframe thead th {\n",
       "        text-align: right;\n",
       "    }\n",
       "</style>\n",
       "<table border=\"1\" class=\"dataframe\">\n",
       "  <thead>\n",
       "    <tr style=\"text-align: right;\">\n",
       "      <th></th>\n",
       "      <th>Seller_Recency</th>\n",
       "    </tr>\n",
       "    <tr>\n",
       "      <th>Seller_RFM_Ranking</th>\n",
       "      <th></th>\n",
       "    </tr>\n",
       "  </thead>\n",
       "  <tbody>\n",
       "    <tr>\n",
       "      <th>0) Lowest - Overall = 0</th>\n",
       "      <td>273</td>\n",
       "    </tr>\n",
       "    <tr>\n",
       "      <th>1) Low - Overall &gt; 0</th>\n",
       "      <td>2280</td>\n",
       "    </tr>\n",
       "    <tr>\n",
       "      <th>2) Medium - Overall &gt; 4</th>\n",
       "      <td>335</td>\n",
       "    </tr>\n",
       "    <tr>\n",
       "      <th>3) High - Overall &gt; 6</th>\n",
       "      <td>89</td>\n",
       "    </tr>\n",
       "  </tbody>\n",
       "</table>\n",
       "</div>"
      ],
      "text/plain": [
       "                         Seller_Recency\n",
       "Seller_RFM_Ranking                     \n",
       "0) Lowest - Overall = 0             273\n",
       "1) Low - Overall > 0               2280\n",
       "2) Medium - Overall > 4             335\n",
       "3) High - Overall > 6                89"
      ]
     },
     "execution_count": 41,
     "metadata": {},
     "output_type": "execute_result"
    }
   ],
   "source": [
    "sellers.groupby('Seller_RFM_Ranking')[['Seller_Recency']].count()"
   ]
  },
  {
   "cell_type": "markdown",
   "id": "ffa9c482",
   "metadata": {},
   "source": [
    "<h4>Merge in RFM Clusters</h4>"
   ]
  },
  {
   "cell_type": "code",
   "execution_count": 42,
   "id": "20a07503",
   "metadata": {},
   "outputs": [
    {
     "data": {
      "text/plain": [
       "Index(['Unnamed: 0', 'order_id', 'order_status', 'order_purchase_timestamp',\n",
       "       'order_approved_at', 'order_delivered_carrier_date',\n",
       "       'order_delivered_customer_date', 'order_estimated_delivery_date',\n",
       "       'shipping_limit_date', 'payment_installments',\n",
       "       'product_category_name_english', 'seller_id', 'seller_zip_code_prefix',\n",
       "       'seller_city', 'seller_state', 'seller_latitude', 'seller_longitude',\n",
       "       'customer_id', 'customer_unique_id', 'customer_zip_code_prefix',\n",
       "       'customer_city', 'customer_state', 'customer_latitude',\n",
       "       'customer_longitude', 'review_id', 'review_score',\n",
       "       'review_creation_date', 'review_answer_timestamp', 'Total_price',\n",
       "       'number_of_items', 'Median_payments', 'Total_payment', 'Total_Freight',\n",
       "       'order_weight_g', 'order_volume_cm3', 'payment_type',\n",
       "       'Purchase_To_Delivery_Days', 'Approved_To_Delivery_Days',\n",
       "       'Diff_Est_Delivery_vs_Actual', 'CustomerUniqueID', 'Buyer_Recency',\n",
       "       'Buyer_RecencyCluster', 'Buyer_Frequency', 'Buyer_FrequencyCluster',\n",
       "       'Buyer_Revenue', 'Buyer_RevenueCluster', 'Buyer_Overall_RFM_Scaled',\n",
       "       'Buyer_RFM_cluster', 'Buyer_OverallRFMScore', 'Buyer_OverallRFM_Raw',\n",
       "       'Buyer_RFM_Ranking', 'SellerID', 'Seller_Recency', 'Seller_Frequency',\n",
       "       'Seller_Revenue', 'Seller_RecencyCluster', 'Seller_FrequencyCluster',\n",
       "       'Seller_RevenueCluster', 'Seller_Overall_RFM_Scaled',\n",
       "       'Seller_OverallRFMScore', 'Seller_OverallRFM_Raw', 'Seller_RFM_cluster',\n",
       "       'Seller_RFM_Ranking'],\n",
       "      dtype='object')"
      ]
     },
     "execution_count": 42,
     "metadata": {},
     "output_type": "execute_result"
    }
   ],
   "source": [
    "OL_Data = OL_Data.merge(buyers, left_on='customer_unique_id', right_on='CustomerUniqueID')\n",
    "OL_Data = OL_Data.merge(sellers, left_on='seller_id',right_on='SellerID')\n",
    "OL_Data.columns"
   ]
  },
  {
   "cell_type": "markdown",
   "id": "efbb4735",
   "metadata": {},
   "source": [
    "<h3>Add Distance from Buyer to Seller</h3>"
   ]
  },
  {
   "cell_type": "code",
   "execution_count": 43,
   "id": "30938f22",
   "metadata": {},
   "outputs": [],
   "source": [
    "#calculate Distance Between Two Points on Earth\n",
    "from math import radians, cos, sin, asin, sqrt\n",
    "def distance(lat1, lon1, lat2, lon2):\n",
    "     \n",
    "    # The math module contains a function named\n",
    "    # radians which converts from degrees to radians.\n",
    "    lon1 = radians(lon1)\n",
    "    lon2 = radians(lon2)\n",
    "    lat1 = radians(lat1)\n",
    "    lat2 = radians(lat2)\n",
    "      \n",
    "    # Haversine formula\n",
    "    dlon = lon2 - lon1\n",
    "    dlat = lat2 - lat1\n",
    "    a = sin(dlat / 2)**2 + cos(lat1) * cos(lat2) * sin(dlon / 2)**2\n",
    " \n",
    "    c = 2 * asin(sqrt(a))\n",
    "    \n",
    "    # Radius of earth in kilometers. Use 3956 for miles\n",
    "    r = 6371\n",
    "      \n",
    "    # calculate the result\n",
    "    return(c * r)\n",
    "     \n",
    "     \n",
    "OL_Data['DistanceOfSale'] = OL_Data.apply(lambda x: distance(x.customer_latitude, x.customer_longitude, x.seller_latitude, x.seller_longitude) , axis=1)"
   ]
  },
  {
   "cell_type": "code",
   "execution_count": 44,
   "id": "fb136c58",
   "metadata": {},
   "outputs": [
    {
     "data": {
      "text/plain": [
       "count    99727.000000\n",
       "mean       603.487296\n",
       "std        596.949713\n",
       "min          0.000000\n",
       "25%        189.670210\n",
       "50%        435.533645\n",
       "75%        801.451936\n",
       "max       8736.947618\n",
       "Name: DistanceOfSale, dtype: float64"
      ]
     },
     "execution_count": 44,
     "metadata": {},
     "output_type": "execute_result"
    }
   ],
   "source": [
    "OL_Data['DistanceOfSale'].describe()"
   ]
  },
  {
   "cell_type": "markdown",
   "id": "d14cc907",
   "metadata": {},
   "source": [
    "<div class=\"span5 alert alert-info\">\n",
    "<h3>Write out data</h3>\n",
    "</div>"
   ]
  },
  {
   "cell_type": "code",
   "execution_count": 45,
   "id": "7be1adee",
   "metadata": {},
   "outputs": [],
   "source": [
    "OL_Data.to_csv('./OLData_RFM_Metrics.csv')"
   ]
  },
  {
   "cell_type": "code",
   "execution_count": null,
   "id": "4498fd2e",
   "metadata": {},
   "outputs": [],
   "source": []
  },
  {
   "cell_type": "markdown",
   "id": "9fcbd500",
   "metadata": {},
   "source": [
    "<div class=\"span5 alert alert-info\">\n",
    "<h3>Buyer Sub Clusters </h3>\n",
    "</div>"
   ]
  },
  {
   "cell_type": "code",
   "execution_count": 46,
   "id": "e7992475",
   "metadata": {},
   "outputs": [
    {
     "name": "stdout",
     "output_type": "stream",
     "text": [
      "['1) Low - Overall > 0' '0) Lowest - Overall = 0' '2)Medium - Overall > 2'\n",
      " '3) High - Overall > 5' '4) Highest - Overall > 7']\n"
     ]
    },
    {
     "data": {
      "image/png": "[encoded data removed]",
      "text/plain": [
       "<Figure size 432x288 with 1 Axes>"
      ]
     },
     "metadata": {
      "needs_background": "light"
     },
     "output_type": "display_data"
    },
    {
     "data": {
      "image/png": "[encoded data removed]",
      "text/plain": [
       "<Figure size 432x288 with 1 Axes>"
      ]
     },
     "metadata": {
      "needs_background": "light"
     },
     "output_type": "display_data"
    },
    {
     "data": {
      "image/png": "[encoded data removed]",
      "text/plain": [
       "<Figure size 432x288 with 1 Axes>"
      ]
     },
     "metadata": {
      "needs_background": "light"
     },
     "output_type": "display_data"
    },
    {
     "data": {
      "image/png": "[encoded data removed]",
      "text/plain": [
       "<Figure size 432x288 with 1 Axes>"
      ]
     },
     "metadata": {
      "needs_background": "light"
     },
     "output_type": "display_data"
    },
    {
     "name": "stderr",
     "output_type": "stream",
     "text": [
      "C:\\Users\\Karl\\anaconda3\\lib\\site-packages\\sklearn\\cluster\\_kmeans.py:881: UserWarning:\n",
      "\n",
      "KMeans is known to have a memory leak on Windows with MKL, when there are less chunks than available threads. You can avoid it by setting the environment variable OMP_NUM_THREADS=1.\n",
      "\n"
     ]
    },
    {
     "data": {
      "image/png": "[encoded data removed]",
      "text/plain": [
       "<Figure size 432x288 with 1 Axes>"
      ]
     },
     "metadata": {
      "needs_background": "light"
     },
     "output_type": "display_data"
    }
   ],
   "source": [
    "clusters={'0) Lowest - Overall = 0':3,\n",
    "          '1) Low - Overall > 0':3,\n",
    "          '2)Medium - Overall > 2':2,\n",
    "          '3) High - Overall > 5':4,\n",
    "          '4) Highest - Overall > 7':4}\n",
    "\n",
    "print(OL_Data['Buyer_RFM_Ranking'].unique())\n",
    "\n",
    "OL_Data_Sub = OL_Data.copy()\n",
    "subData = pd.DataFrame({'order_id' : [], 'Buyer_RFM_Ranking_SubClusers':[]})\n",
    "\n",
    "for t in OL_Data['Buyer_RFM_Ranking'].unique():\n",
    "    subset = OL_Data[OL_Data['Buyer_RFM_Ranking']==t]\n",
    "    \n",
    "    numcols = ['payment_installments',\n",
    "            'seller_latitude', \n",
    "            'seller_longitude',\n",
    "            'customer_latitude',\n",
    "            'customer_longitude', \n",
    "            'review_score',\n",
    "            'Total_price',\n",
    "            'number_of_items', \n",
    "            'Median_payments', \n",
    "            'Total_payment', \n",
    "            'Total_Freight',\n",
    "            'order_weight_g', \n",
    "            'order_volume_cm3', \n",
    "            'Purchase_To_Delivery_Days', \n",
    "            'Approved_To_Delivery_Days',\n",
    "            'Diff_Est_Delivery_vs_Actual',\n",
    "            'Buyer_OverallRFM_Raw',\n",
    "            'Seller_OverallRFM_Raw', \n",
    "            'Seller_RFM_cluster',\n",
    "            'DistanceOfSale']\n",
    "    \n",
    "    test = numcols+['order_id']\n",
    "    subset = subset[test].dropna()\n",
    "    \n",
    "    \n",
    "    PrintKmeansInertiaGraphWithArray(subset,numcols,\"Clustering for \\'{0}\\'\".format(t))\n",
    "    PerformKMeansWithArray(subset, numcols, clusters[t], \"Buyer_RFM_Ranking_SubClusers\", t)\n",
    "    subData = pd.concat([subData, subset[[\"order_id\",\"Buyer_RFM_Ranking_SubClusers\"]]], ignore_index=True)\n",
    "    \n",
    "OL_Data_Sub = OL_Data_Sub.merge(subData, on='order_id',how='left' )"
   ]
  },
  {
   "cell_type": "markdown",
   "id": "66515cfb",
   "metadata": {},
   "source": [
    "<div class=\"span5 alert alert-info\">\n",
    "<h3>Seller Sub Clusters </h3>\n",
    "</div>"
   ]
  },
  {
   "cell_type": "code",
   "execution_count": 47,
   "id": "5182c077",
   "metadata": {
    "scrolled": false
   },
   "outputs": [
    {
     "name": "stdout",
     "output_type": "stream",
     "text": [
      "['1) Low - Overall > 0' '2) Medium - Overall > 4' '3) High - Overall > 6'\n",
      " '0) Lowest - Overall = 0']\n"
     ]
    },
    {
     "data": {
      "image/png": "[encoded data removed]",
      "text/plain": [
       "<Figure size 432x288 with 1 Axes>"
      ]
     },
     "metadata": {
      "needs_background": "light"
     },
     "output_type": "display_data"
    },
    {
     "data": {
      "image/png": "[encoded data removed]",
      "text/plain": [
       "<Figure size 432x288 with 1 Axes>"
      ]
     },
     "metadata": {
      "needs_background": "light"
     },
     "output_type": "display_data"
    },
    {
     "data": {
      "image/png": "[encoded data removed]",
      "text/plain": [
       "<Figure size 432x288 with 1 Axes>"
      ]
     },
     "metadata": {
      "needs_background": "light"
     },
     "output_type": "display_data"
    },
    {
     "name": "stderr",
     "output_type": "stream",
     "text": [
      "C:\\Users\\Karl\\anaconda3\\lib\\site-packages\\sklearn\\cluster\\_kmeans.py:881: UserWarning:\n",
      "\n",
      "KMeans is known to have a memory leak on Windows with MKL, when there are less chunks than available threads. You can avoid it by setting the environment variable OMP_NUM_THREADS=2.\n",
      "\n"
     ]
    },
    {
     "data": {
      "image/png": "[encoded data removed]",
      "text/plain": [
       "<Figure size 432x288 with 1 Axes>"
      ]
     },
     "metadata": {
      "needs_background": "light"
     },
     "output_type": "display_data"
    }
   ],
   "source": [
    "clusters={'1) Low - Overall > 0':4, '2) Medium - Overall > 4':4, '3) High - Overall > 6':4, '0) Lowest - Overall = 0':4}\n",
    "print(OL_Data['Seller_RFM_Ranking'].unique())\n",
    "\n",
    "subData = pd.DataFrame({'order_id' : [], 'Seller_RFM_Ranking_SubClusers':[]})\n",
    "for t in OL_Data['Seller_RFM_Ranking'].unique():\n",
    "    subset = OL_Data[OL_Data['Seller_RFM_Ranking']==t]\n",
    "    \n",
    "    numcols = ['payment_installments',\n",
    "            'seller_latitude', \n",
    "            'seller_longitude',\n",
    "            'customer_latitude',\n",
    "            'customer_longitude', \n",
    "            'review_score',\n",
    "            'Total_price',\n",
    "            'number_of_items', \n",
    "            'Median_payments', \n",
    "            'Total_payment', \n",
    "            'Total_Freight',\n",
    "            'order_weight_g', \n",
    "            'order_volume_cm3', \n",
    "            'Purchase_To_Delivery_Days', \n",
    "            'Approved_To_Delivery_Days',\n",
    "            'Diff_Est_Delivery_vs_Actual',\n",
    "            'Buyer_OverallRFM_Raw',\n",
    "            'Seller_OverallRFM_Raw', \n",
    "            'Seller_RFM_cluster',\n",
    "            'DistanceOfSale']\n",
    "    \n",
    "    test = numcols+['order_id']\n",
    "    subset = subset[test].dropna()\n",
    "    \n",
    "    \n",
    "    PrintKmeansInertiaGraphWithArray(subset,numcols,\"Clustering for \\'{0}\\'\".format(t))\n",
    "    PerformKMeansWithArray(subset, numcols, clusters[t], \"Seller_RFM_Ranking_SubClusers\", t)\n",
    "    subData = pd.concat([subData, subset[[\"order_id\",\"Seller_RFM_Ranking_SubClusers\"]]], ignore_index=True)\n",
    "\n",
    "OL_Data_Sub = OL_Data_Sub.merge(subData, on='order_id',how='left' )\n"
   ]
  },
  {
   "cell_type": "markdown",
   "id": "add065f6",
   "metadata": {},
   "source": [
    "<h4>Write Out Data For Tableau</h4>"
   ]
  },
  {
   "cell_type": "code",
   "execution_count": 48,
   "id": "e1947d39",
   "metadata": {},
   "outputs": [],
   "source": [
    "OL_Data_Sub[[\"order_id\",\"Buyer_RFM_Ranking_SubClusers\",\"Seller_RFM_Ranking_SubClusers\"]].to_csv('./OLData_SubClusters.csv')"
   ]
  },
  {
   "cell_type": "markdown",
   "id": "c9252267",
   "metadata": {},
   "source": [
    "<div class=\"span5 alert alert-info\">\n",
    "<h3>Lines from Seller To Buyer </h3>\n",
    "</div>"
   ]
  },
  {
   "cell_type": "code",
   "execution_count": 49,
   "id": "18b09474",
   "metadata": {},
   "outputs": [],
   "source": [
    "\n",
    "AllOrderLines = []\n",
    "for index, row in OL_Data.iterrows():\n",
    "    originRow = {}\n",
    "    destRow = {}\n",
    "    \n",
    "    originRow['Origin-Destination'] = 'Origin'\n",
    "    destRow['Origin-Destination'] = 'Destination'\n",
    "\n",
    "    idName = \"{0}-{1}\".format(row['customer_id'],index)\n",
    "    originRow['PathId'] = idName\n",
    "    destRow['PathId'] = idName\n",
    "\n",
    "    originRow['Latitude'] = row['seller_latitude']\n",
    "    originRow['Longitude'] = row['seller_longitude']\n",
    "    destRow['Latitude'] = row['customer_latitude']\n",
    "    destRow['Longitude'] =  row['customer_longitude']\n",
    "    \n",
    "    originRow['Buyer_RFM_Ranking'] = row['Buyer_RFM_Ranking']\n",
    "    destRow['Buyer_RFM_Ranking'] = row['Buyer_RFM_Ranking']    \n",
    "    originRow['Seller_RFM_Ranking'] = row['Seller_RFM_Ranking']\n",
    "    destRow['Seller_RFM_Ranking'] = row['Seller_RFM_Ranking']\n",
    "    \n",
    "    AllOrderLines.append(originRow)\n",
    "    AllOrderLines.append(destRow)\n",
    "    \n",
    "mapDf = pd.DataFrame(AllOrderLines)\n",
    "mapDf.to_csv('./OrderMapData.csv')"
   ]
  },
  {
   "cell_type": "markdown",
   "id": "0b471c0d",
   "metadata": {},
   "source": [
    "<div class=\"span5 alert alert-info\">\n",
    "<h3>Tableau workbooks</h3>\n",
    "</div>"
   ]
  },
  {
   "cell_type": "markdown",
   "id": "66e89d0b",
   "metadata": {},
   "source": [
    "[RFM Score Investigation](https://public.tableau.com/authoring/OL_Data_Metric_EDA/SellerGeo#1)\n",
    "\n",
    "[Mapping of Olist Orders](https://public.tableau.com/app/profile/karl.deakyne/viz/OL_Data_Orders_Mapped/OrdersMapped)"
   ]
  }
 ],
 "metadata": {
  "kernelspec": {
   "display_name": "Python 3 (ipykernel)",
   "language": "python",
   "name": "python3"
  },
  "language_info": {
   "codemirror_mode": {
    "name": "ipython",
    "version": 3
   },
   "file_extension": ".py",
   "mimetype": "text/x-python",
   "name": "python",
   "nbconvert_exporter": "python",
   "pygments_lexer": "ipython3",
   "version": "3.9.7"
  }
 },
 "nbformat": 4,
 "nbformat_minor": 5
}
